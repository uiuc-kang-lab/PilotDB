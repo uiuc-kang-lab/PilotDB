{
 "cells": [
  {
   "cell_type": "code",
   "execution_count": 79,
   "metadata": {},
   "outputs": [
    {
     "data": {
      "text/html": [
       "<div>\n",
       "<style scoped>\n",
       "    .dataframe tbody tr th:only-of-type {\n",
       "        vertical-align: middle;\n",
       "    }\n",
       "\n",
       "    .dataframe tbody tr th {\n",
       "        vertical-align: top;\n",
       "    }\n",
       "\n",
       "    .dataframe thead th {\n",
       "        text-align: right;\n",
       "    }\n",
       "</style>\n",
       "<table border=\"1\" class=\"dataframe\">\n",
       "  <thead>\n",
       "    <tr style=\"text-align: right;\">\n",
       "      <th></th>\n",
       "      <th>revenue</th>\n",
       "      <th>o_page_id</th>\n",
       "      <th>l_page_id</th>\n",
       "    </tr>\n",
       "  </thead>\n",
       "  <tbody>\n",
       "    <tr>\n",
       "      <th>0</th>\n",
       "      <td>119136.9882</td>\n",
       "      <td>0</td>\n",
       "      <td>0</td>\n",
       "    </tr>\n",
       "    <tr>\n",
       "      <th>1</th>\n",
       "      <td>558529.4880</td>\n",
       "      <td>0</td>\n",
       "      <td>1</td>\n",
       "    </tr>\n",
       "    <tr>\n",
       "      <th>2</th>\n",
       "      <td>234038.7696</td>\n",
       "      <td>0</td>\n",
       "      <td>2</td>\n",
       "    </tr>\n",
       "    <tr>\n",
       "      <th>3</th>\n",
       "      <td>21332.2329</td>\n",
       "      <td>0</td>\n",
       "      <td>3</td>\n",
       "    </tr>\n",
       "    <tr>\n",
       "      <th>4</th>\n",
       "      <td>262173.2040</td>\n",
       "      <td>1</td>\n",
       "      <td>4</td>\n",
       "    </tr>\n",
       "    <tr>\n",
       "      <th>...</th>\n",
       "      <td>...</td>\n",
       "      <td>...</td>\n",
       "      <td>...</td>\n",
       "    </tr>\n",
       "    <tr>\n",
       "      <th>112002910</th>\n",
       "      <td>311975.2510</td>\n",
       "      <td>26843244</td>\n",
       "      <td>115517742</td>\n",
       "    </tr>\n",
       "    <tr>\n",
       "      <th>112002911</th>\n",
       "      <td>215301.3011</td>\n",
       "      <td>26843244</td>\n",
       "      <td>115517743</td>\n",
       "    </tr>\n",
       "    <tr>\n",
       "      <th>112002912</th>\n",
       "      <td>180485.0744</td>\n",
       "      <td>26843245</td>\n",
       "      <td>115517744</td>\n",
       "    </tr>\n",
       "    <tr>\n",
       "      <th>112002913</th>\n",
       "      <td>73276.4490</td>\n",
       "      <td>26843245</td>\n",
       "      <td>115517745</td>\n",
       "    </tr>\n",
       "    <tr>\n",
       "      <th>112002914</th>\n",
       "      <td>404697.8159</td>\n",
       "      <td>26843245</td>\n",
       "      <td>115517746</td>\n",
       "    </tr>\n",
       "  </tbody>\n",
       "</table>\n",
       "<p>112002915 rows × 3 columns</p>\n",
       "</div>"
      ],
      "text/plain": [
       "               revenue  o_page_id  l_page_id\n",
       "0          119136.9882          0          0\n",
       "1          558529.4880          0          1\n",
       "2          234038.7696          0          2\n",
       "3           21332.2329          0          3\n",
       "4          262173.2040          1          4\n",
       "...                ...        ...        ...\n",
       "112002910  311975.2510   26843244  115517742\n",
       "112002911  215301.3011   26843244  115517743\n",
       "112002912  180485.0744   26843245  115517744\n",
       "112002913   73276.4490   26843245  115517745\n",
       "112002914  404697.8159   26843245  115517746\n",
       "\n",
       "[112002915 rows x 3 columns]"
      ]
     },
     "execution_count": 79,
     "metadata": {},
     "output_type": "execute_result"
    }
   ],
   "source": [
    "import pandas as pd\n",
    "unagg = pd.read_csv(\"/mydata/q5_simple.csv\")\n",
    "unagg"
   ]
  },
  {
   "cell_type": "code",
   "execution_count": 81,
   "metadata": {},
   "outputs": [
    {
     "data": {
      "text/plain": [
       "32810830831518.0"
      ]
     },
     "execution_count": 81,
     "metadata": {},
     "output_type": "execute_result"
    }
   ],
   "source": [
    "16405415415759.00000000*2"
   ]
  },
  {
   "cell_type": "code",
   "execution_count": 80,
   "metadata": {},
   "outputs": [
    {
     "data": {
      "text/plain": [
       "np.float64(33065139443527.633)"
      ]
     },
     "execution_count": 80,
     "metadata": {},
     "output_type": "execute_result"
    }
   ],
   "source": [
    "sum_gt = unagg[\"revenue\"].sum()\n",
    "sum_gt"
   ]
  },
  {
   "cell_type": "code",
   "execution_count": 4,
   "metadata": {},
   "outputs": [
    {
     "data": {
      "text/plain": [
       "(1.0933034464199269e+27,\n",
       " 1.4830028816813216e+19,\n",
       " 4.646564439891826e+19,\n",
       " 1.4092489594206149e+19)"
      ]
     },
     "execution_count": 4,
     "metadata": {},
     "output_type": "execute_result"
    }
   ],
   "source": [
    "import numpy as np\n",
    "y_empty = (unagg[\"revenue\"].sum() ** 2).item()\n",
    "y_l = np.sum(unagg.groupby(\"l_page_id\").sum()[\"revenue\"] ** 2).item()\n",
    "y_o = np.sum(unagg.groupby(\"o_page_id\").sum()[\"revenue\"] ** 2).item()\n",
    "y_lo = np.sum(unagg[\"revenue\"] ** 2).item()\n",
    "y_empty, y_l, y_o, y_lo"
   ]
  },
  {
   "cell_type": "code",
   "execution_count": 5,
   "metadata": {},
   "outputs": [
    {
     "data": {
      "text/plain": [
       "(0.0001,\n",
       " (1e-08, 1.0000000000000002e-06, 1.0000000000000002e-06, 0.0001),\n",
       " (1e-08, 9.900000000000003e-07, 9.900000000000003e-07, 9.801e-05))"
      ]
     },
     "execution_count": 5,
     "metadata": {},
     "output_type": "execute_result"
    }
   ],
   "source": [
    "theta1 = 0.01\n",
    "theta2 = 0.01\n",
    "a = theta1 * theta2\n",
    "b_empty = (theta1 ** 2) * (theta2 ** 2)\n",
    "b_l = theta1 * (theta2 **2)\n",
    "b_o = (theta1 ** 2) * theta2\n",
    "b_lo = theta1 * theta2\n",
    "c_empty = b_empty\n",
    "c_l = -b_empty + b_l\n",
    "c_o = -b_empty + b_o\n",
    "c_lo = b_empty - b_l - b_o + b_lo\n",
    "a, (b_empty, b_l, b_o, b_lo), (c_empty, c_l, c_o, c_lo)"
   ]
  },
  {
   "cell_type": "code",
   "execution_count": 72,
   "metadata": {},
   "outputs": [
    {
     "name": "stdout",
     "output_type": "stream",
     "text": [
      "1.0 1.0933034464199269e+27\n",
      "99.00000000000003 1.4830028816813216e+19\n",
      "99.00000000000003 4.646564439891826e+19\n",
      "9801.0 1.4092489594206149e+19\n"
     ]
    },
    {
     "data": {
      "text/plain": [
       "1.4418876216113593e+23"
      ]
     },
     "execution_count": 72,
     "metadata": {},
     "output_type": "execute_result"
    }
   ],
   "source": [
    "import math\n",
    "print(c_empty / (a**2), y_empty)\n",
    "print(c_l / (a**2), y_l)\n",
    "print(c_o / (a**2), y_o)\n",
    "print(c_lo / (a**2), y_lo)\n",
    "sum_sigma2 = c_empty / (a**2) * y_empty + c_l / (a**2) * y_l + c_o / (a**2) * y_o + c_lo / (a**2) * y_lo - y_empty\n",
    "sum_sigma2"
   ]
  },
  {
   "cell_type": "code",
   "execution_count": 70,
   "metadata": {},
   "outputs": [
    {
     "data": {
      "text/plain": [
       "(np.float64(1.568213180367789e+23), 93)"
      ]
     },
     "execution_count": 70,
     "metadata": {},
     "output_type": "execute_result"
    }
   ],
   "source": [
    "import glob\n",
    "import numpy as np\n",
    "result_files = glob.glob(\"results/q5_simple_sample*\")\n",
    "results = []\n",
    "for result_file in result_files:\n",
    "    with open(result_file) as f:\n",
    "        result = f.readlines()\n",
    "        if len(result) > 0:\n",
    "            result = result[2]\n",
    "            result = float(result.strip())\n",
    "            results.append(result)\n",
    "np.var(results, ddof=1), len(results)"
   ]
  },
  {
   "cell_type": "code",
   "execution_count": 73,
   "metadata": {},
   "outputs": [
    {
     "data": {
      "text/plain": [
       "(np.float64(1.969453681899985e+23), np.float64(1.1015268334449207e+23))"
      ]
     },
     "execution_count": 73,
     "metadata": {},
     "output_type": "execute_result"
    }
   ],
   "source": [
    "import scipy.stats\n",
    "\n",
    "chi2_u = lambda n: (n-1) / scipy.stats.chi2.ppf(0.025, n-1)\n",
    "chi2_l = lambda n: (n-1) / scipy.stats.chi2.ppf(0.975, n-1)\n",
    "sum_sigma2*chi2_u(len(results)), sum_sigma2*chi2_l(len(results))"
   ]
  },
  {
   "cell_type": "code",
   "execution_count": 96,
   "metadata": {},
   "outputs": [
    {
     "data": {
      "text/html": [
       "<div>\n",
       "<style scoped>\n",
       "    .dataframe tbody tr th:only-of-type {\n",
       "        vertical-align: middle;\n",
       "    }\n",
       "\n",
       "    .dataframe tbody tr th {\n",
       "        vertical-align: top;\n",
       "    }\n",
       "\n",
       "    .dataframe thead th {\n",
       "        text-align: right;\n",
       "    }\n",
       "</style>\n",
       "<table border=\"1\" class=\"dataframe\">\n",
       "  <thead>\n",
       "    <tr style=\"text-align: right;\">\n",
       "      <th></th>\n",
       "      <th>revenue</th>\n",
       "      <th>o_page_id</th>\n",
       "      <th>l_page_id</th>\n",
       "    </tr>\n",
       "  </thead>\n",
       "  <tbody>\n",
       "    <tr>\n",
       "      <th>0</th>\n",
       "      <td>137013.8580</td>\n",
       "      <td>10174441</td>\n",
       "      <td>43785413</td>\n",
       "    </tr>\n",
       "    <tr>\n",
       "      <th>1</th>\n",
       "      <td>404001.8477</td>\n",
       "      <td>4419116</td>\n",
       "      <td>19017716</td>\n",
       "    </tr>\n",
       "    <tr>\n",
       "      <th>2</th>\n",
       "      <td>223619.0431</td>\n",
       "      <td>5235731</td>\n",
       "      <td>22531850</td>\n",
       "    </tr>\n",
       "    <tr>\n",
       "      <th>3</th>\n",
       "      <td>682040.3369</td>\n",
       "      <td>23000880</td>\n",
       "      <td>98981760</td>\n",
       "    </tr>\n",
       "    <tr>\n",
       "      <th>4</th>\n",
       "      <td>212422.4294</td>\n",
       "      <td>7500123</td>\n",
       "      <td>32276305</td>\n",
       "    </tr>\n",
       "    <tr>\n",
       "      <th>...</th>\n",
       "      <td>...</td>\n",
       "      <td>...</td>\n",
       "      <td>...</td>\n",
       "    </tr>\n",
       "    <tr>\n",
       "      <th>2743</th>\n",
       "      <td>487147.1887</td>\n",
       "      <td>11667922</td>\n",
       "      <td>50212510</td>\n",
       "    </tr>\n",
       "    <tr>\n",
       "      <th>2744</th>\n",
       "      <td>519000.9459</td>\n",
       "      <td>20749685</td>\n",
       "      <td>89294478</td>\n",
       "    </tr>\n",
       "    <tr>\n",
       "      <th>2745</th>\n",
       "      <td>357933.2620</td>\n",
       "      <td>5250035</td>\n",
       "      <td>22593407</td>\n",
       "    </tr>\n",
       "    <tr>\n",
       "      <th>2746</th>\n",
       "      <td>344639.1744</td>\n",
       "      <td>15966257</td>\n",
       "      <td>68709782</td>\n",
       "    </tr>\n",
       "    <tr>\n",
       "      <th>2747</th>\n",
       "      <td>161248.0058</td>\n",
       "      <td>9194911</td>\n",
       "      <td>39569585</td>\n",
       "    </tr>\n",
       "  </tbody>\n",
       "</table>\n",
       "<p>2748 rows × 3 columns</p>\n",
       "</div>"
      ],
      "text/plain": [
       "          revenue  o_page_id  l_page_id\n",
       "0     137013.8580   10174441   43785413\n",
       "1     404001.8477    4419116   19017716\n",
       "2     223619.0431    5235731   22531850\n",
       "3     682040.3369   23000880   98981760\n",
       "4     212422.4294    7500123   32276305\n",
       "...           ...        ...        ...\n",
       "2743  487147.1887   11667922   50212510\n",
       "2744  519000.9459   20749685   89294478\n",
       "2745  357933.2620    5250035   22593407\n",
       "2746  344639.1744   15966257   68709782\n",
       "2747  161248.0058    9194911   39569585\n",
       "\n",
       "[2748 rows x 3 columns]"
      ]
     },
     "execution_count": 96,
     "metadata": {},
     "output_type": "execute_result"
    }
   ],
   "source": [
    "import pandas as pd\n",
    "unagg_sample = pd.read_csv(\"q5_simple_pilot_result.csv\")\n",
    "unagg_sample"
   ]
  },
  {
   "cell_type": "code",
   "execution_count": 97,
   "metadata": {},
   "outputs": [
    {
     "data": {
      "text/plain": [
       "(2.6491180502983094e+22,\n",
       " 2.758196110567002e+21,\n",
       " 2.7964169338870337e+21,\n",
       " 1.378686476941509e+19)"
      ]
     },
     "execution_count": 97,
     "metadata": {},
     "output_type": "execute_result"
    }
   ],
   "source": [
    "import numpy as np\n",
    "y_empty_est = (unagg_sample[\"revenue\"].sum() ** 2).item() / 0.005 / 0.005\n",
    "y_l_est = np.sum(unagg_sample.groupby(\"l_page_id\").sum()[\"revenue\"] ** 2).item() / 0.005 / 0.005 / 0.005\n",
    "y_o_est = np.sum(unagg_sample.groupby(\"o_page_id\").sum()[\"revenue\"] ** 2).item() / 0.005 / 0.005 / 0.005\n",
    "y_lo_est = np.sum(unagg_sample[\"revenue\"] ** 2).item() / 0.005 / 0.005\n",
    "y_empty_est, y_l_est, y_o_est, y_lo_est"
   ]
  },
  {
   "cell_type": "code",
   "execution_count": 98,
   "metadata": {},
   "outputs": [
    {
     "data": {
      "text/plain": [
       "(2.5e-05,\n",
       " (6.25e-10, 1.2500000000000002e-07, 1.2500000000000002e-07, 2.5e-05),\n",
       " (6.25e-10, 1.2437500000000003e-07, 1.2437500000000003e-07, 2.4750625e-05))"
      ]
     },
     "execution_count": 98,
     "metadata": {},
     "output_type": "execute_result"
    }
   ],
   "source": [
    "theta1 = 0.005\n",
    "theta2 = 0.005\n",
    "a = theta1 * theta2\n",
    "b_empty = (theta1 ** 2) * (theta2 ** 2)\n",
    "b_l = theta1 * (theta2 **2)\n",
    "b_o = (theta1 ** 2) * theta2\n",
    "b_lo = theta1 * theta2\n",
    "c_empty = b_empty\n",
    "c_l = -b_empty + b_l\n",
    "c_o = -b_empty + b_o\n",
    "c_lo = b_empty - b_l - b_o + b_lo\n",
    "a, (b_empty, b_l, b_o, b_lo), (c_empty, c_l, c_o, c_lo)"
   ]
  },
  {
   "cell_type": "code",
   "execution_count": 99,
   "metadata": {},
   "outputs": [
    {
     "data": {
      "text/plain": [
       "1.6513416275799602e+24"
      ]
     },
     "execution_count": 99,
     "metadata": {},
     "output_type": "execute_result"
    }
   ],
   "source": [
    "sum_sigma2 = c_empty / (a**2) * y_empty_est + c_l / (a**2) * y_l_est + c_o / (a**2) * y_o_est + c_lo / (a**2) * y_lo_est - y_empty_est\n",
    "sum_sigma2"
   ]
  },
  {
   "cell_type": "code",
   "execution_count": 100,
   "metadata": {},
   "outputs": [
    {
     "data": {
      "text/plain": [
       "np.float64(32552222967400.0)"
      ]
     },
     "execution_count": 100,
     "metadata": {},
     "output_type": "execute_result"
    }
   ],
   "source": [
    "sum_est = unagg_sample[\"revenue\"].sum() / 0.005 / 0.005\n",
    "sum_est"
   ]
  },
  {
   "cell_type": "code",
   "execution_count": 101,
   "metadata": {},
   "outputs": [],
   "source": [
    "import scipy.stats\n",
    "z_val = scipy.stats.norm.ppf(0.99)\n",
    "est_lb = sum_est - z_val * (sum_sigma2 ** 0.5)"
   ]
  },
  {
   "cell_type": "code",
   "execution_count": 102,
   "metadata": {},
   "outputs": [
    {
     "data": {
      "text/plain": [
       "np.float64(4.037203665245085e+23)"
      ]
     },
     "execution_count": 102,
     "metadata": {},
     "output_type": "execute_result"
    }
   ],
   "source": [
    "import scipy.stats\n",
    "max_var = (0.05 * est_lb / z_val) ** 2\n",
    "max_var"
   ]
  },
  {
   "cell_type": "code",
   "execution_count": 104,
   "metadata": {},
   "outputs": [
    {
     "name": "stdout",
     "output_type": "stream",
     "text": [
      "0.013000000000000001 0.02 0.07200000000000001\n"
     ]
    }
   ],
   "source": [
    "import math\n",
    "min_theta1 = 1\n",
    "min_theta2 = 1\n",
    "utility = 4*min_theta1 + min_theta2\n",
    "for theta1 in [0.001 * i for i in range(1,21)]:\n",
    "    for theta2 in [0.001 * i for i in range(1,21)]:\n",
    "        a = theta1 * theta2\n",
    "        b_empty = (theta1 ** 2) * (theta2 ** 2)\n",
    "        b_l = theta1 * (theta2 **2)\n",
    "        b_o = (theta1 ** 2) * theta2\n",
    "        b_lo = theta1 * theta2\n",
    "        c_empty = b_empty\n",
    "        c_l = -b_empty + b_l\n",
    "        c_o = -b_empty + b_o\n",
    "        c_lo = b_empty - b_l - b_o + b_lo\n",
    "        sum_var = c_empty / (a**2) * y_empty_est + c_l / (a**2) * y_l_est + c_o / (a**2) * y_o_est + c_lo / (a**2) * y_lo_est - y_empty_est\n",
    "        if sum_var < max_var:\n",
    "            current_ut = 4*theta1 + theta2\n",
    "            if current_ut < utility:\n",
    "                utility = current_ut\n",
    "                min_theta1 = theta1\n",
    "                min_theta2 = theta2\n",
    "print(min_theta1, min_theta2, utility)"
   ]
  }
 ],
 "metadata": {
  "kernelspec": {
   "display_name": "pilotdb",
   "language": "python",
   "name": "python3"
  },
  "language_info": {
   "codemirror_mode": {
    "name": "ipython",
    "version": 3
   },
   "file_extension": ".py",
   "mimetype": "text/x-python",
   "name": "python",
   "nbconvert_exporter": "python",
   "pygments_lexer": "ipython3",
   "version": "3.11.9"
  }
 },
 "nbformat": 4,
 "nbformat_minor": 2
}
