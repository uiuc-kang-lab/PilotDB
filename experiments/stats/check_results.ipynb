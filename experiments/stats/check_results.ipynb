{
 "cells": [
  {
   "cell_type": "code",
   "execution_count": 28,
   "metadata": {},
   "outputs": [
    {
     "name": "stdout",
     "output_type": "stream",
     "text": [
      "0.081\n",
      "1000\n"
     ]
    }
   ],
   "source": [
    "import json\n",
    "import scipy.stats\n",
    "sum_t = 38236.03211953901 * 273605183\n",
    "with open(\"aqp_results.jsonl\") as f:\n",
    "    lines = f.readlines()\n",
    "    n = len(lines)\n",
    "    n_valid = 0\n",
    "    for line in lines:\n",
    "        res = json.loads(line)\n",
    "        size = res[\"cnt\"][\"0\"]\n",
    "        avg = res[\"avg\"][\"0\"]\n",
    "        std = res[\"std\"][\"0\"]\n",
    "        t = scipy.stats.t.ppf(0.975, size - 1)\n",
    "        lb = avg - t * std / size**0.5\n",
    "        ub = avg + t * std / size**0.5\n",
    "        sum_ub = ub / 0.01 / 0.05 * size\n",
    "        sum_lb = lb / 0.01 / 0.05 * size\n",
    "        if sum_lb <= sum_t <= sum_ub:\n",
    "            n_valid += 1\n",
    "print(n_valid / n)\n",
    "print(n)"
   ]
  }
 ],
 "metadata": {
  "kernelspec": {
   "display_name": "pilotdb",
   "language": "python",
   "name": "python3"
  },
  "language_info": {
   "codemirror_mode": {
    "name": "ipython",
    "version": 3
   },
   "file_extension": ".py",
   "mimetype": "text/x-python",
   "name": "python",
   "nbconvert_exporter": "python",
   "pygments_lexer": "ipython3",
   "version": "3.11.9"
  }
 },
 "nbformat": 4,
 "nbformat_minor": 2
}
