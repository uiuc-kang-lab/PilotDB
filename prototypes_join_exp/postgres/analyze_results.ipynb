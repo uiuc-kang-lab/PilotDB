{
 "cells": [
  {
   "cell_type": "code",
   "execution_count": 1,
   "metadata": {},
   "outputs": [
    {
     "name": "stdout",
     "output_type": "stream",
     "text": [
      "multi_time defaultdict(<class 'list'>, {5: [864.9892723560333], 7: [465.71962308883667], 12: [250.76098251342773], 14: [80.3570020198822]})\n",
      "single_time defaultdict(<class 'list'>, {5: [256.5050542354584], 7: [78.18216681480408], 9: [423.03892850875854], 12: [18.59325909614563], 14: [23.255903720855713], 19: [478.28358006477356]})\n"
     ]
    }
   ],
   "source": [
    "import pandas as pd\n",
    "import json\n",
    "import numpy as np\n",
    "from collections import defaultdict\n",
    "exact_result = {}\n",
    "exact_runtime = defaultdict(list)\n",
    "multi_table_runtime = defaultdict(list)\n",
    "single_table_runtime = defaultdict(list)\n",
    "multi_table_results = defaultdict(list)\n",
    "single_table_results = defaultdict(list)\n",
    "with open(\"all_results.jsonl\") as f:\n",
    "    for line in f:\n",
    "        result = json.loads(line)\n",
    "        query_id = result[\"query_id\"]\n",
    "        if \"multi_table_sample_time\" in result and result[\"multi_table_sample_time\"] != -1:\n",
    "            multi_table_runtime[query_id].append(result[\"multi_table_sample_time\"] + result[\"pilot_time\"])\n",
    "            multi_table_results[query_id].append(result[\"multi_table_sample_result\"])\n",
    "        elif \"single_table_sample_time\" in result and result[\"single_table_sample_time\"] != -1:\n",
    "            single_table_runtime[query_id].append(result[\"single_table_sample_time\"] + result[\"pilot_time\"])\n",
    "            single_table_results[query_id].append(result[\"single_table_sample_result\"])\n",
    "        elif \"exact_time\" in result:\n",
    "            exact_runtime[query_id].append(result[\"exact_time\"])\n",
    "            exact_result[query_id] = result[\"exact_result\"]\n",
    "print(\"multi_time\", multi_table_runtime)\n",
    "print(\"single_time\", single_table_runtime)\n",
    "        # # find the column is not of string type\n",
    "        # print(query_id)\n",
    "        # if multi_result.empty:\n",
    "        #     print(\"multi_result is empty\")\n",
    "        # else:\n",
    "        #     non_string_columns = []\n",
    "        #     for column in multi_result.columns:\n",
    "        #         if single_result[column].dtype != \"object\":\n",
    "        #             non_string_columns.append(column)\n",
    "        #     error = np.abs(single_result[non_string_columns] - exact_result[non_string_columns]) / exact_result[non_string_columns]\n",
    "        #     max_error = error.max().max()\n",
    "        #     print(\"multi table sample error: \", max_error*100)\n",
    "        # if single_result.empty:\n",
    "        #     print(\"single_result is empty\")\n",
    "        # else:\n",
    "        #     non_string_columns = []\n",
    "        #     for column in single_result.columns:\n",
    "        #         if single_result[column].dtype != \"object\":\n",
    "        #             non_string_columns.append(column)\n",
    "        #     error = np.abs(single_result[non_string_columns] - exact_result[non_string_columns]) / exact_result[non_string_columns]\n",
    "        #     max_error = error.max().max()\n",
    "        #     print(\"single table sample error: \",max_error*100)\n"
   ]
  },
  {
   "cell_type": "code",
   "execution_count": 2,
   "metadata": {},
   "outputs": [
    {
     "name": "stdout",
     "output_type": "stream",
     "text": [
      "query id 5\n",
      "multi table sample speedup:  0.9716514952497065\n",
      "multi table sample error:  3.9459394025748518\n",
      "single table sample speedup:  3.2766142654179014\n",
      "single table sample error:  99.99013097132685\n",
      "query id 7\n",
      "multi table sample speedup:  1.1691195618118937\n",
      "multi table sample error:  68.43529667531777\n",
      "single table sample speedup:  6.964272593807434\n",
      "single table sample error:  0.6841936752326343\n",
      "query id 8\n",
      "query id 9\n",
      "single table sample speedup:  4.953519738427374\n",
      "single table sample error:  4.034675847877086\n",
      "query id 12\n",
      "multi table sample speedup:  2.0436408429209627\n",
      "multi table sample error:  2.492579097340011\n",
      "single table sample speedup:  27.561891276051977\n",
      "single table sample error:  2.415044908018909\n",
      "query id 14\n",
      "multi table sample speedup:  6.007107310565834\n",
      "multi table sample error:  3.3555359130357663\n",
      "single table sample speedup:  20.756584654067623\n",
      "single table sample error:  0.04783208589565921\n",
      "query id 19\n",
      "single table sample speedup:  0.9964526573902365\n",
      "single table sample error:  2.3357578941474078\n"
     ]
    }
   ],
   "source": [
    "for query_id in exact_result:\n",
    "    print(\"query id\", query_id)\n",
    "    exact_runtime_avg = np.mean(exact_runtime[query_id])\n",
    "    exact_result_query = pd.DataFrame(exact_result[query_id])\n",
    "    if query_id in multi_table_runtime:\n",
    "        multi_runtime_avg = np.mean(multi_table_runtime[query_id])\n",
    "        speedup = exact_runtime_avg / multi_runtime_avg\n",
    "        print(\"multi table sample speedup: \", speedup)\n",
    "        for result in multi_table_results[query_id]:\n",
    "            result = pd.DataFrame(result)\n",
    "            non_string_columns = []\n",
    "            for column in exact_result_query:\n",
    "                if result[column].dtype != \"object\":\n",
    "                    non_string_columns.append(column)\n",
    "            error = np.abs(result[non_string_columns] - exact_result_query[non_string_columns]) / exact_result_query[non_string_columns]\n",
    "            max_error = error.max().max()\n",
    "            print(\"multi table sample error: \", max_error*100)\n",
    "    if query_id in single_table_runtime:\n",
    "        single_runtime_avg = np.mean(single_table_runtime[query_id])\n",
    "        speedup = exact_runtime_avg / single_runtime_avg\n",
    "        print(\"single table sample speedup: \", speedup)\n",
    "        for result in single_table_results[query_id]:\n",
    "            result = pd.DataFrame(result)\n",
    "            non_string_columns = []\n",
    "            for column in exact_result_query:\n",
    "                if result[column].dtype != \"object\":\n",
    "                    non_string_columns.append(column)\n",
    "            error = np.abs(result[non_string_columns] - exact_result_query[non_string_columns]) / exact_result_query[non_string_columns]\n",
    "            max_error = error.max().max()\n",
    "            print(\"single table sample error: \", max_error*100)\n"
   ]
  }
 ],
 "metadata": {
  "kernelspec": {
   "display_name": "pilotdb",
   "language": "python",
   "name": "python3"
  },
  "language_info": {
   "codemirror_mode": {
    "name": "ipython",
    "version": 3
   },
   "file_extension": ".py",
   "mimetype": "text/x-python",
   "name": "python",
   "nbconvert_exporter": "python",
   "pygments_lexer": "ipython3",
   "version": "3.11.9"
  }
 },
 "nbformat": 4,
 "nbformat_minor": 2
}
