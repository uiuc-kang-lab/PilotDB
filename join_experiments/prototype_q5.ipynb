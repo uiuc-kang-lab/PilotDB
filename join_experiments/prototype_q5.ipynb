{
 "cells": [
  {
   "cell_type": "code",
   "execution_count": 27,
   "metadata": {},
   "outputs": [
    {
     "name": "stderr",
     "output_type": "stream",
     "text": [
      "/tmp/ipykernel_221555/1161817355.py:2: DtypeWarning: Columns (0) have mixed types. Specify dtype option on import or set low_memory=False.\n",
      "  pilot_result = pd.read_csv(\"q5_pilot_result_1.csv\")\n"
     ]
    },
    {
     "data": {
      "text/html": [
       "<div>\n",
       "<style scoped>\n",
       "    .dataframe tbody tr th:only-of-type {\n",
       "        vertical-align: middle;\n",
       "    }\n",
       "\n",
       "    .dataframe tbody tr th {\n",
       "        vertical-align: top;\n",
       "    }\n",
       "\n",
       "    .dataframe thead th {\n",
       "        text-align: right;\n",
       "    }\n",
       "</style>\n",
       "<table border=\"1\" class=\"dataframe\">\n",
       "  <thead>\n",
       "    <tr style=\"text-align: right;\">\n",
       "      <th></th>\n",
       "      <th>n_name</th>\n",
       "      <th>o_pageid</th>\n",
       "      <th>l_pageid</th>\n",
       "      <th>revenue</th>\n",
       "    </tr>\n",
       "  </thead>\n",
       "  <tbody>\n",
       "    <tr>\n",
       "      <th>0</th>\n",
       "      <td>NaN</td>\n",
       "      <td>49158.0</td>\n",
       "      <td>NaN</td>\n",
       "      <td>NaN</td>\n",
       "    </tr>\n",
       "    <tr>\n",
       "      <th>1</th>\n",
       "      <td>NaN</td>\n",
       "      <td>24583.0</td>\n",
       "      <td>NaN</td>\n",
       "      <td>NaN</td>\n",
       "    </tr>\n",
       "    <tr>\n",
       "      <th>2</th>\n",
       "      <td>NaN</td>\n",
       "      <td>24602.0</td>\n",
       "      <td>NaN</td>\n",
       "      <td>NaN</td>\n",
       "    </tr>\n",
       "    <tr>\n",
       "      <th>3</th>\n",
       "      <td>NaN</td>\n",
       "      <td>24603.0</td>\n",
       "      <td>NaN</td>\n",
       "      <td>NaN</td>\n",
       "    </tr>\n",
       "    <tr>\n",
       "      <th>4</th>\n",
       "      <td>NaN</td>\n",
       "      <td>24607.0</td>\n",
       "      <td>NaN</td>\n",
       "      <td>NaN</td>\n",
       "    </tr>\n",
       "    <tr>\n",
       "      <th>...</th>\n",
       "      <td>...</td>\n",
       "      <td>...</td>\n",
       "      <td>...</td>\n",
       "      <td>...</td>\n",
       "    </tr>\n",
       "    <tr>\n",
       "      <th>228165078</th>\n",
       "      <td>JAPAN</td>\n",
       "      <td>NaN</td>\n",
       "      <td>103424792.0</td>\n",
       "      <td>3708.1044</td>\n",
       "    </tr>\n",
       "    <tr>\n",
       "      <th>228165079</th>\n",
       "      <td>JAPAN</td>\n",
       "      <td>NaN</td>\n",
       "      <td>42506566.0</td>\n",
       "      <td>33708.1290</td>\n",
       "    </tr>\n",
       "    <tr>\n",
       "      <th>228165080</th>\n",
       "      <td>INDIA</td>\n",
       "      <td>NaN</td>\n",
       "      <td>7804901.0</td>\n",
       "      <td>24136.6356</td>\n",
       "    </tr>\n",
       "    <tr>\n",
       "      <th>228165081</th>\n",
       "      <td>VIETNAM</td>\n",
       "      <td>NaN</td>\n",
       "      <td>86780431.0</td>\n",
       "      <td>73427.9700</td>\n",
       "    </tr>\n",
       "    <tr>\n",
       "      <th>228165082</th>\n",
       "      <td>JAPAN</td>\n",
       "      <td>NaN</td>\n",
       "      <td>105061966.0</td>\n",
       "      <td>46514.9412</td>\n",
       "    </tr>\n",
       "  </tbody>\n",
       "</table>\n",
       "<p>228165083 rows × 4 columns</p>\n",
       "</div>"
      ],
      "text/plain": [
       "                              n_name  o_pageid     l_pageid     revenue\n",
       "0                                NaN   49158.0          NaN         NaN\n",
       "1                                NaN   24583.0          NaN         NaN\n",
       "2                                NaN   24602.0          NaN         NaN\n",
       "3                                NaN   24603.0          NaN         NaN\n",
       "4                                NaN   24607.0          NaN         NaN\n",
       "...                              ...       ...          ...         ...\n",
       "228165078  JAPAN                           NaN  103424792.0   3708.1044\n",
       "228165079  JAPAN                           NaN   42506566.0  33708.1290\n",
       "228165080  INDIA                           NaN    7804901.0  24136.6356\n",
       "228165081  VIETNAM                         NaN   86780431.0  73427.9700\n",
       "228165082  JAPAN                           NaN  105061966.0  46514.9412\n",
       "\n",
       "[228165083 rows x 4 columns]"
      ]
     },
     "execution_count": 27,
     "metadata": {},
     "output_type": "execute_result"
    }
   ],
   "source": [
    "import pandas as pd\n",
    "pilot_result = pd.read_csv(\"q5_pilot_result_1.csv\")\n",
    "pilot_result"
   ]
  },
  {
   "cell_type": "code",
   "execution_count": 38,
   "metadata": {},
   "outputs": [
    {
     "data": {
      "text/plain": [
       "n_name\n",
       "CHINA                        106769\n",
       "INDIA                        106554\n",
       "INDONESIA                    106964\n",
       "JAPAN                        107145\n",
       "VIETNAM                      107167\n",
       "Name: l_pageid, dtype: int64"
      ]
     },
     "execution_count": 38,
     "metadata": {},
     "output_type": "execute_result"
    }
   ],
   "source": [
    "pilot_result.dropna(subset = [\"l_pageid\"]).groupby(\"n_name\")[\"l_pageid\"].nunique()"
   ]
  },
  {
   "cell_type": "code",
   "execution_count": 39,
   "metadata": {},
   "outputs": [
    {
     "data": {
      "text/plain": [
       "26840487"
      ]
     },
     "execution_count": 39,
     "metadata": {},
     "output_type": "execute_result"
    }
   ],
   "source": [
    "pilot_result.dropna(subset = [\"o_pageid\"])[\"o_pageid\"].nunique()"
   ]
  },
  {
   "cell_type": "code",
   "execution_count": 42,
   "metadata": {},
   "outputs": [],
   "source": [
    "n_pages_orders_before_join = 26840487\n",
    "n_pages_lineitem_before_join = {\n",
    "    \"CHINA                    \": 106769,\n",
    "    \"INDIA                    \": 106554,\n",
    "    \"INDONESIA                \": 106964,\n",
    "    \"JAPAN                    \": 107145,\n",
    "    \"VIETNAM                  \": 107167\n",
    "}"
   ]
  },
  {
   "cell_type": "code",
   "execution_count": 40,
   "metadata": {},
   "outputs": [
    {
     "name": "stdout",
     "output_type": "stream",
     "text": [
      "n_name groups: ['INDONESIA                ' 'JAPAN                    '\n",
      " 'INDIA                    ' 'CHINA                    '\n",
      " 'VIETNAM                  ']\n"
     ]
    },
    {
     "data": {
      "text/html": [
       "<div>\n",
       "<style scoped>\n",
       "    .dataframe tbody tr th:only-of-type {\n",
       "        vertical-align: middle;\n",
       "    }\n",
       "\n",
       "    .dataframe tbody tr th {\n",
       "        vertical-align: top;\n",
       "    }\n",
       "\n",
       "    .dataframe thead th {\n",
       "        text-align: right;\n",
       "    }\n",
       "</style>\n",
       "<table border=\"1\" class=\"dataframe\">\n",
       "  <thead>\n",
       "    <tr style=\"text-align: right;\">\n",
       "      <th></th>\n",
       "      <th>n_name</th>\n",
       "      <th>o_pageid</th>\n",
       "      <th>l_pageid</th>\n",
       "      <th>revenue</th>\n",
       "    </tr>\n",
       "  </thead>\n",
       "  <tbody>\n",
       "    <tr>\n",
       "      <th>101219</th>\n",
       "      <td>INDONESIA</td>\n",
       "      <td>2034914.0</td>\n",
       "      <td>8757521.0</td>\n",
       "      <td>71689.3632</td>\n",
       "    </tr>\n",
       "    <tr>\n",
       "      <th>235134</th>\n",
       "      <td>JAPAN</td>\n",
       "      <td>4752134.0</td>\n",
       "      <td>20450813.0</td>\n",
       "      <td>26147.9020</td>\n",
       "    </tr>\n",
       "    <tr>\n",
       "      <th>275723</th>\n",
       "      <td>INDIA</td>\n",
       "      <td>6309392.0</td>\n",
       "      <td>27152431.0</td>\n",
       "      <td>89993.3216</td>\n",
       "    </tr>\n",
       "    <tr>\n",
       "      <th>398902</th>\n",
       "      <td>INDIA</td>\n",
       "      <td>8181132.0</td>\n",
       "      <td>35206540.0</td>\n",
       "      <td>51493.4820</td>\n",
       "    </tr>\n",
       "    <tr>\n",
       "      <th>437814</th>\n",
       "      <td>INDIA</td>\n",
       "      <td>8444217.0</td>\n",
       "      <td>36338873.0</td>\n",
       "      <td>10931.9552</td>\n",
       "    </tr>\n",
       "    <tr>\n",
       "      <th>...</th>\n",
       "      <td>...</td>\n",
       "      <td>...</td>\n",
       "      <td>...</td>\n",
       "      <td>...</td>\n",
       "    </tr>\n",
       "    <tr>\n",
       "      <th>227341907</th>\n",
       "      <td>VIETNAM</td>\n",
       "      <td>7900388.0</td>\n",
       "      <td>33998677.0</td>\n",
       "      <td>82518.9400</td>\n",
       "    </tr>\n",
       "    <tr>\n",
       "      <th>227411465</th>\n",
       "      <td>CHINA</td>\n",
       "      <td>18980501.0</td>\n",
       "      <td>81681254.0</td>\n",
       "      <td>36934.0983</td>\n",
       "    </tr>\n",
       "    <tr>\n",
       "      <th>227429456</th>\n",
       "      <td>INDIA</td>\n",
       "      <td>20950812.0</td>\n",
       "      <td>90159880.0</td>\n",
       "      <td>16198.6440</td>\n",
       "    </tr>\n",
       "    <tr>\n",
       "      <th>227477133</th>\n",
       "      <td>INDONESIA</td>\n",
       "      <td>12009435.0</td>\n",
       "      <td>51682352.0</td>\n",
       "      <td>19263.2400</td>\n",
       "    </tr>\n",
       "    <tr>\n",
       "      <th>227523252</th>\n",
       "      <td>CHINA</td>\n",
       "      <td>19320946.0</td>\n",
       "      <td>83146320.0</td>\n",
       "      <td>33529.6990</td>\n",
       "    </tr>\n",
       "  </tbody>\n",
       "</table>\n",
       "<p>3590 rows × 4 columns</p>\n",
       "</div>"
      ],
      "text/plain": [
       "                              n_name    o_pageid    l_pageid     revenue\n",
       "101219     INDONESIA                   2034914.0   8757521.0  71689.3632\n",
       "235134     JAPAN                       4752134.0  20450813.0  26147.9020\n",
       "275723     INDIA                       6309392.0  27152431.0  89993.3216\n",
       "398902     INDIA                       8181132.0  35206540.0  51493.4820\n",
       "437814     INDIA                       8444217.0  36338873.0  10931.9552\n",
       "...                              ...         ...         ...         ...\n",
       "227341907  VIETNAM                     7900388.0  33998677.0  82518.9400\n",
       "227411465  CHINA                      18980501.0  81681254.0  36934.0983\n",
       "227429456  INDIA                      20950812.0  90159880.0  16198.6440\n",
       "227477133  INDONESIA                  12009435.0  51682352.0  19263.2400\n",
       "227523252  CHINA                      19320946.0  83146320.0  33529.6990\n",
       "\n",
       "[3590 rows x 4 columns]"
      ]
     },
     "execution_count": 40,
     "metadata": {},
     "output_type": "execute_result"
    }
   ],
   "source": [
    "paged_data = pilot_result.dropna(subset = [\"l_pageid\", \"o_pageid\"])\n",
    "group_keys = paged_data[\"n_name\"].unique()\n",
    "print(\"n_name groups:\", group_keys)\n",
    "paged_data"
   ]
  },
  {
   "cell_type": "code",
   "execution_count": 43,
   "metadata": {},
   "outputs": [
    {
     "name": "stdout",
     "output_type": "stream",
     "text": [
      "INDONESIA                 1.6353609274587987e-08\n",
      "JAPAN                     1.7742346303712457e-08\n",
      "INDIA                     1.6678441271574136e-08\n",
      "CHINA                     1.6717702828068845e-08\n",
      "VIETNAM                   1.7503146960443705e-08\n",
      "Max variance: 1.7742346303712457e-08\n"
     ]
    }
   ],
   "source": [
    "import numpy as np\n",
    "l_sum = paged_data.groupby([\"n_name\", \"l_pageid\"]).agg({\"revenue\": \"sum\"})[\"revenue\"]/n_pages_orders_before_join\n",
    "group_vars_l = {}\n",
    "for group_key in group_keys:\n",
    "    group_data = np.concatenate([l_sum[group_key].to_numpy(), np.zeros(int(n_pages_lineitem_before_join[group_key] - len(l_sum[group_key])))])\n",
    "    group_var = np.var(group_data)\n",
    "    group_vars_l[group_key] = group_var\n",
    "    print(group_key, group_var)\n",
    "max_var = max(group_vars_l.values())\n",
    "print(\"Max variance:\", max_var)"
   ]
  },
  {
   "cell_type": "code",
   "execution_count": 44,
   "metadata": {},
   "outputs": [
    {
     "name": "stdout",
     "output_type": "stream",
     "text": [
      "2.1340961855282765e-05\n"
     ]
    }
   ],
   "source": [
    "o_sum = paged_data.groupby([\"n_name\", \"o_pageid\"]).agg({\"revenue\": \"sum\"})[\"revenue\"]/max(n_pages_lineitem_before_join.values())\n",
    "o_data = np.concatenate([o_sum.to_numpy(), np.zeros(int(n_pages_orders_before_join - len(o_sum)))])\n",
    "o_var = np.var(o_data)\n",
    "print(o_var)"
   ]
  },
  {
   "cell_type": "code",
   "execution_count": 45,
   "metadata": {},
   "outputs": [
    {
     "name": "stdout",
     "output_type": "stream",
     "text": [
      "INDONESIA                 8.879750377791686e-06\n",
      "JAPAN                     9.40833911981018e-06\n",
      "INDIA                     8.856811704101043e-06\n",
      "CHINA                     9.068283262546225e-06\n",
      "VIETNAM                   9.317874645038349e-06\n",
      "min_avg 8.856811704101043e-06\n"
     ]
    }
   ],
   "source": [
    "avg = paged_data.groupby(\"n_name\").agg({\"revenue\": \"sum\"}) / n_pages_orders_before_join\n",
    "avgs = {}\n",
    "for group_key in group_keys:\n",
    "    avgs[group_key] = avg.loc[group_key][\"revenue\"]/n_pages_lineitem_before_join[group_key]\n",
    "    print(group_key, avgs[group_key])\n",
    "min_avg = min(avgs.values())\n",
    "print(\"min_avg\", min_avg)"
   ]
  },
  {
   "cell_type": "code",
   "execution_count": 46,
   "metadata": {},
   "outputs": [
    {
     "name": "stdout",
     "output_type": "stream",
     "text": [
      "n 1412439948.5535138\n"
     ]
    }
   ],
   "source": [
    "import scipy.stats\n",
    "z = scipy.stats.norm.ppf(0.999)\n",
    "n = z**2 * (max_var*1.1 + o_var*1.1) / ((min_avg*0.9)**2) / (0.05**2)\n",
    "print(\"n\", n)"
   ]
  },
  {
   "cell_type": "code",
   "execution_count": null,
   "metadata": {},
   "outputs": [],
   "source": [
    "avg = pilot_result[\"revenue\"].sum() / "
   ]
  }
 ],
 "metadata": {
  "kernelspec": {
   "display_name": "pilotdb",
   "language": "python",
   "name": "python3"
  },
  "language_info": {
   "codemirror_mode": {
    "name": "ipython",
    "version": 3
   },
   "file_extension": ".py",
   "mimetype": "text/x-python",
   "name": "python",
   "nbconvert_exporter": "python",
   "pygments_lexer": "ipython3",
   "version": "3.11.9"
  }
 },
 "nbformat": 4,
 "nbformat_minor": 2
}
