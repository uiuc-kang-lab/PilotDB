{
 "cells": [
  {
   "cell_type": "code",
   "execution_count": 16,
   "metadata": {},
   "outputs": [
    {
     "name": "stdout",
     "output_type": "stream",
     "text": [
      "n_name groups: ['CHINA                    ' 'INDIA                    '\n",
      " 'INDONESIA                ' 'JAPAN                    '\n",
      " 'VIETNAM                  ']\n"
     ]
    },
    {
     "data": {
      "text/html": [
       "<div>\n",
       "<style scoped>\n",
       "    .dataframe tbody tr th:only-of-type {\n",
       "        vertical-align: middle;\n",
       "    }\n",
       "\n",
       "    .dataframe tbody tr th {\n",
       "        vertical-align: top;\n",
       "    }\n",
       "\n",
       "    .dataframe thead th {\n",
       "        text-align: right;\n",
       "    }\n",
       "</style>\n",
       "<table border=\"1\" class=\"dataframe\">\n",
       "  <thead>\n",
       "    <tr style=\"text-align: right;\">\n",
       "      <th></th>\n",
       "      <th>n_name</th>\n",
       "      <th>revenue</th>\n",
       "      <th>o_pageid</th>\n",
       "      <th>l_pageid</th>\n",
       "    </tr>\n",
       "  </thead>\n",
       "  <tbody>\n",
       "    <tr>\n",
       "      <th>0</th>\n",
       "      <td>CHINA</td>\n",
       "      <td>56313.2160</td>\n",
       "      <td>7557.0</td>\n",
       "      <td>32514.0</td>\n",
       "    </tr>\n",
       "    <tr>\n",
       "      <th>1</th>\n",
       "      <td>CHINA</td>\n",
       "      <td>28878.9300</td>\n",
       "      <td>215949.0</td>\n",
       "      <td>929135.0</td>\n",
       "    </tr>\n",
       "    <tr>\n",
       "      <th>2</th>\n",
       "      <td>CHINA</td>\n",
       "      <td>58016.5222</td>\n",
       "      <td>219261.0</td>\n",
       "      <td>943397.0</td>\n",
       "    </tr>\n",
       "    <tr>\n",
       "      <th>3</th>\n",
       "      <td>CHINA</td>\n",
       "      <td>44944.6437</td>\n",
       "      <td>242569.0</td>\n",
       "      <td>1043672.0</td>\n",
       "    </tr>\n",
       "    <tr>\n",
       "      <th>4</th>\n",
       "      <td>CHINA</td>\n",
       "      <td>10745.5260</td>\n",
       "      <td>303902.0</td>\n",
       "      <td>1307582.0</td>\n",
       "    </tr>\n",
       "    <tr>\n",
       "      <th>...</th>\n",
       "      <td>...</td>\n",
       "      <td>...</td>\n",
       "      <td>...</td>\n",
       "      <td>...</td>\n",
       "    </tr>\n",
       "    <tr>\n",
       "      <th>3434</th>\n",
       "      <td>VIETNAM</td>\n",
       "      <td>83333.6322</td>\n",
       "      <td>26625233.0</td>\n",
       "      <td>114579438.0</td>\n",
       "    </tr>\n",
       "    <tr>\n",
       "      <th>3435</th>\n",
       "      <td>VIETNAM</td>\n",
       "      <td>31855.4640</td>\n",
       "      <td>26655567.0</td>\n",
       "      <td>114709922.0</td>\n",
       "    </tr>\n",
       "    <tr>\n",
       "      <th>3436</th>\n",
       "      <td>VIETNAM</td>\n",
       "      <td>67462.5420</td>\n",
       "      <td>26740427.0</td>\n",
       "      <td>115075271.0</td>\n",
       "    </tr>\n",
       "    <tr>\n",
       "      <th>3437</th>\n",
       "      <td>VIETNAM</td>\n",
       "      <td>22054.5000</td>\n",
       "      <td>26804844.0</td>\n",
       "      <td>115352475.0</td>\n",
       "    </tr>\n",
       "    <tr>\n",
       "      <th>3438</th>\n",
       "      <td>VIETNAM</td>\n",
       "      <td>33776.2766</td>\n",
       "      <td>26810635.0</td>\n",
       "      <td>115377388.0</td>\n",
       "    </tr>\n",
       "  </tbody>\n",
       "</table>\n",
       "<p>3439 rows × 4 columns</p>\n",
       "</div>"
      ],
      "text/plain": [
       "                         n_name     revenue    o_pageid     l_pageid\n",
       "0     CHINA                      56313.2160      7557.0      32514.0\n",
       "1     CHINA                      28878.9300    215949.0     929135.0\n",
       "2     CHINA                      58016.5222    219261.0     943397.0\n",
       "3     CHINA                      44944.6437    242569.0    1043672.0\n",
       "4     CHINA                      10745.5260    303902.0    1307582.0\n",
       "...                         ...         ...         ...          ...\n",
       "3434  VIETNAM                    83333.6322  26625233.0  114579438.0\n",
       "3435  VIETNAM                    31855.4640  26655567.0  114709922.0\n",
       "3436  VIETNAM                    67462.5420  26740427.0  115075271.0\n",
       "3437  VIETNAM                    22054.5000  26804844.0  115352475.0\n",
       "3438  VIETNAM                    33776.2766  26810635.0  115377388.0\n",
       "\n",
       "[3439 rows x 4 columns]"
      ]
     },
     "execution_count": 16,
     "metadata": {},
     "output_type": "execute_result"
    }
   ],
   "source": [
    "import pandas as pd\n",
    "\n",
    "paged_data = pd.read_csv('q5_pilot_result_2.csv')\n",
    "group_keys = paged_data[\"n_name\"].unique()\n",
    "print(\"n_name groups:\", group_keys)\n",
    "paged_data"
   ]
  },
  {
   "cell_type": "code",
   "execution_count": 17,
   "metadata": {},
   "outputs": [
    {
     "name": "stdout",
     "output_type": "stream",
     "text": [
      "n_pages_l:\n",
      " n_name\n",
      "CHINA                        683\n",
      "INDIA                        698\n",
      "INDONESIA                    718\n",
      "JAPAN                        668\n",
      "VIETNAM                      669\n",
      "Name: l_pageid, dtype: int64\n",
      "n_pages_o:\n",
      " n_name\n",
      "CHINA                        684\n",
      "INDIA                        698\n",
      "INDONESIA                    720\n",
      "JAPAN                        668\n",
      "VIETNAM                      669\n",
      "Name: o_pageid, dtype: int64\n"
     ]
    }
   ],
   "source": [
    "n_pages_l = paged_data.groupby(\"n_name\").agg({\"l_pageid\": \"nunique\"})[\"l_pageid\"]\n",
    "n_pages_o = paged_data.groupby(\"n_name\").agg({\"o_pageid\": \"nunique\"})[\"o_pageid\"]\n",
    "print(\"n_pages_l:\\n\", n_pages_l)\n",
    "print(\"n_pages_o:\\n\", n_pages_o)"
   ]
  },
  {
   "cell_type": "code",
   "execution_count": 24,
   "metadata": {},
   "outputs": [
    {
     "name": "stdout",
     "output_type": "stream",
     "text": [
      "CHINA                     variance: 1427.367356628544\n",
      "INDIA                     variance: 1276.6858647596773\n",
      "INDONESIA                 variance: 1289.8652865884526\n",
      "JAPAN                     variance: 1562.2507018817566\n",
      "VIETNAM                   variance: 1356.2781058334888\n"
     ]
    }
   ],
   "source": [
    "import numpy as np\n",
    "l_sum = paged_data.groupby([\"n_name\", \"l_pageid\"]).agg({\"revenue\": \"sum\"})[\"revenue\"]\n",
    "group_keys = paged_data[\"n_name\"].unique()\n",
    "group_l_vars = {}\n",
    "for group_key in group_keys:\n",
    "    group_l_sum = l_sum[group_key] / n_pages_o[group_key]\n",
    "    group_l_sum = np.concatenate([group_l_sum, np.zeros(n_pages_l[group_key] - len(group_l_sum))])\n",
    "    group_l_var = np.var(group_l_sum)\n",
    "    print(f\"{group_key} variance: {group_l_var}\")\n",
    "    group_l_vars[group_key] = group_l_var\n",
    "max_l_var = max(group_l_vars.values())"
   ]
  },
  {
   "cell_type": "code",
   "execution_count": 23,
   "metadata": {},
   "outputs": [
    {
     "name": "stdout",
     "output_type": "stream",
     "text": [
      "CHINA                     variance: 1356.2781058334888\n",
      "INDIA                     variance: 1356.2781058334888\n",
      "INDONESIA                 variance: 1356.2781058334888\n",
      "JAPAN                     variance: 1356.2781058334888\n",
      "VIETNAM                   variance: 1356.2781058334888\n"
     ]
    }
   ],
   "source": [
    "import numpy as np\n",
    "o_sum = paged_data.groupby([\"n_name\", \"o_pageid\"]).agg({\"revenue\": \"sum\"})[\"revenue\"]\n",
    "group_keys = paged_data[\"n_name\"].unique()\n",
    "group_o_vars = {}\n",
    "for group_key in group_keys:\n",
    "    group_o_sum = o_sum[group_key] / n_pages_l[group_key]\n",
    "    group_o_sum = np.concatenate([group_o_sum, np.zeros(n_pages_o[group_key] - len(group_o_sum))])\n",
    "    group_o_var = np.var(group_l_sum)\n",
    "    print(f\"{group_key} variance: {group_o_var}\")\n",
    "    group_o_vars[group_key] = group_o_var\n",
    "max_o_var = max(group_o_vars.values())"
   ]
  },
  {
   "cell_type": "code",
   "execution_count": 20,
   "metadata": {},
   "outputs": [
    {
     "name": "stdout",
     "output_type": "stream",
     "text": [
      "CHINA                     56.688041978329174\n",
      "INDIA                     56.5339862043415\n",
      "INDONESIA                 52.99061213865676\n",
      "JAPAN                     58.98886386769874\n",
      "VIETNAM                   56.5426830849873\n",
      "min_avg 52.99061213865676\n"
     ]
    }
   ],
   "source": [
    "avg = paged_data.groupby(\"n_name\").agg({\"revenue\": \"sum\"})\n",
    "avgs = {}\n",
    "for group_key in group_keys:\n",
    "    avgs[group_key] = avg.loc[group_key][\"revenue\"] / n_pages_o[group_key] / n_pages_l[group_key]\n",
    "    print(group_key, avgs[group_key])\n",
    "min_avg = min(avgs.values())\n",
    "print(\"min_avg\", min_avg)"
   ]
  },
  {
   "cell_type": "code",
   "execution_count": 21,
   "metadata": {},
   "outputs": [
    {
     "data": {
      "text/plain": [
       "0.7458928219853284"
      ]
     },
     "execution_count": 21,
     "metadata": {},
     "output_type": "execute_result"
    }
   ],
   "source": [
    "import math\n",
    "math.sqrt(1562.2507018817566) / 52.99061213865676"
   ]
  },
  {
   "cell_type": "code",
   "execution_count": 25,
   "metadata": {},
   "outputs": [
    {
     "name": "stdout",
     "output_type": "stream",
     "text": [
      "n 3970.163202463841\n"
     ]
    }
   ],
   "source": [
    "import scipy.stats\n",
    "z = scipy.stats.norm.ppf(0.999)\n",
    "n = z**2 * (max_l_var + max_o_var) / (min_avg**2) / (0.05**2)\n",
    "print(\"n\", n)"
   ]
  },
  {
   "cell_type": "code",
   "execution_count": 27,
   "metadata": {},
   "outputs": [
    {
     "data": {
      "text/plain": [
       "0.297167904376036"
      ]
     },
     "execution_count": 27,
     "metadata": {},
     "output_type": "execute_result"
    }
   ],
   "source": [
    "3970.163202463841/668 * 0.05"
   ]
  }
 ],
 "metadata": {
  "kernelspec": {
   "display_name": "pilotdb",
   "language": "python",
   "name": "python3"
  },
  "language_info": {
   "codemirror_mode": {
    "name": "ipython",
    "version": 3
   },
   "file_extension": ".py",
   "mimetype": "text/x-python",
   "name": "python",
   "nbconvert_exporter": "python",
   "pygments_lexer": "ipython3",
   "version": "3.11.9"
  }
 },
 "nbformat": 4,
 "nbformat_minor": 2
}
