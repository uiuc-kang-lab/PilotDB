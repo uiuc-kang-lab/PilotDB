{
 "cells": [
  {
   "cell_type": "code",
   "execution_count": 38,
   "metadata": {},
   "outputs": [
    {
     "data": {
      "text/html": [
       "<div>\n",
       "<style scoped>\n",
       "    .dataframe tbody tr th:only-of-type {\n",
       "        vertical-align: middle;\n",
       "    }\n",
       "\n",
       "    .dataframe tbody tr th {\n",
       "        vertical-align: top;\n",
       "    }\n",
       "\n",
       "    .dataframe thead th {\n",
       "        text-align: right;\n",
       "    }\n",
       "</style>\n",
       "<table border=\"1\" class=\"dataframe\">\n",
       "  <thead>\n",
       "    <tr style=\"text-align: right;\">\n",
       "      <th></th>\n",
       "      <th>x</th>\n",
       "      <th>page_id</th>\n",
       "    </tr>\n",
       "  </thead>\n",
       "  <tbody>\n",
       "    <tr>\n",
       "      <th>count</th>\n",
       "      <td>1.756401e+08</td>\n",
       "      <td>1.756401e+08</td>\n",
       "    </tr>\n",
       "    <tr>\n",
       "      <th>mean</th>\n",
       "      <td>2.424342e+01</td>\n",
       "      <td>3.982299e+05</td>\n",
       "    </tr>\n",
       "    <tr>\n",
       "      <th>std</th>\n",
       "      <td>8.764248e+01</td>\n",
       "      <td>2.299148e+05</td>\n",
       "    </tr>\n",
       "    <tr>\n",
       "      <th>min</th>\n",
       "      <td>1.000000e+00</td>\n",
       "      <td>0.000000e+00</td>\n",
       "    </tr>\n",
       "    <tr>\n",
       "      <th>25%</th>\n",
       "      <td>1.000000e+00</td>\n",
       "      <td>1.991220e+05</td>\n",
       "    </tr>\n",
       "    <tr>\n",
       "      <th>50%</th>\n",
       "      <td>2.000000e+00</td>\n",
       "      <td>3.982320e+05</td>\n",
       "    </tr>\n",
       "    <tr>\n",
       "      <th>75%</th>\n",
       "      <td>8.000000e+00</td>\n",
       "      <td>5.973390e+05</td>\n",
       "    </tr>\n",
       "    <tr>\n",
       "      <th>max</th>\n",
       "      <td>9.990000e+02</td>\n",
       "      <td>7.964600e+05</td>\n",
       "    </tr>\n",
       "  </tbody>\n",
       "</table>\n",
       "</div>"
      ],
      "text/plain": [
       "                  x       page_id\n",
       "count  1.756401e+08  1.756401e+08\n",
       "mean   2.424342e+01  3.982299e+05\n",
       "std    8.764248e+01  2.299148e+05\n",
       "min    1.000000e+00  0.000000e+00\n",
       "25%    1.000000e+00  1.991220e+05\n",
       "50%    2.000000e+00  3.982320e+05\n",
       "75%    8.000000e+00  5.973390e+05\n",
       "max    9.990000e+02  7.964600e+05"
      ]
     },
     "execution_count": 38,
     "metadata": {},
     "output_type": "execute_result"
    }
   ],
   "source": [
    "import pandas as pd\n",
    "data = pd.read_csv(\"/mydata/skew_data/1_5_postgres.csv\")\n",
    "data = data[data[\"x\"] < 1000]\n",
    "data.describe()"
   ]
  },
  {
   "cell_type": "code",
   "execution_count": 39,
   "metadata": {},
   "outputs": [
    {
     "data": {
      "text/plain": [
       "(array([1.66246272e+08, 4.01835700e+06, 1.78152300e+06, 1.06440600e+06,\n",
       "        7.20654000e+05, 5.38998000e+05, 4.18424000e+05, 3.36825000e+05,\n",
       "        2.79129000e+05, 2.35496000e+05]),\n",
       " array([  1. , 100.8, 200.6, 300.4, 400.2, 500. , 599.8, 699.6, 799.4,\n",
       "        899.2, 999. ]),\n",
       " <BarContainer object of 10 artists>)"
      ]
     },
     "execution_count": 39,
     "metadata": {},
     "output_type": "execute_result"
    },
    {
     "data": {
      "image/png": "[encoded data removed]",
      "text/plain": [
       "<Figure size 640x480 with 1 Axes>"
      ]
     },
     "metadata": {},
     "output_type": "display_data"
    }
   ],
   "source": [
    "import matplotlib.pyplot as plt\n",
    "plt.hist(data[\"x\"])"
   ]
  },
  {
   "cell_type": "code",
   "execution_count": 40,
   "metadata": {},
   "outputs": [
    {
     "data": {
      "text/plain": [
       "(24.243423881532646, 87.64247990166137, 20081.56609269586)"
      ]
     },
     "execution_count": 40,
     "metadata": {},
     "output_type": "execute_result"
    }
   ],
   "source": [
    "import scipy.stats\n",
    "avg_x = data[\"x\"].mean()\n",
    "std_x = data[\"x\"].std()\n",
    "sample_size_fn = lambda e: (scipy.stats.norm.ppf(0.975) * std_x / avg_x / e) **2\n",
    "avg_x, std_x, sample_size_fn(0.05)"
   ]
  },
  {
   "cell_type": "code",
   "execution_count": 41,
   "metadata": {},
   "outputs": [],
   "source": [
    "grouping = data.groupby(\"page_id\").agg({\"x\": [\"size\", \"sum\"]})\n",
    "page_sums = grouping[\"x\"][\"sum\"]\n",
    "page_sizes = grouping[\"x\"][\"size\"]"
   ]
  },
  {
   "cell_type": "code",
   "execution_count": 42,
   "metadata": {},
   "outputs": [
    {
     "data": {
      "text/plain": [
       "(5346.296939837606, 1301.5321362457787, 22.766686166275576)"
      ]
     },
     "execution_count": 42,
     "metadata": {},
     "output_type": "execute_result"
    }
   ],
   "source": [
    "page_sum_mean = page_sums.mean()\n",
    "page_sum_std = page_sums.std()\n",
    "sample_page_size_fn = lambda e: (scipy.stats.norm.ppf(0.975) * page_sum_std / page_sum_mean / e) **2\n",
    "page_sum_mean, page_sum_std, sample_page_size_fn(0.1)"
   ]
  },
  {
   "cell_type": "code",
   "execution_count": 43,
   "metadata": {},
   "outputs": [
    {
     "data": {
      "image/png": "[encoded data removed]",
      "text/plain": [
       "<Figure size 640x480 with 1 Axes>"
      ]
     },
     "metadata": {},
     "output_type": "display_data"
    }
   ],
   "source": [
    "x = [0.01 * i for i in range(1, 11)]\n",
    "y = [sample_page_size_fn(e) for e in x]\n",
    "x = [e*100 for e in x]\n",
    "import matplotlib.pyplot as plt\n",
    "\n",
    "plt.plot(x, y)\n",
    "plt.yscale(\"log\")"
   ]
  },
  {
   "cell_type": "code",
   "execution_count": 44,
   "metadata": {},
   "outputs": [
    {
     "data": {
      "text/plain": [
       "(220.5256553679339, 2.317044508160043, 0.04240789263536657)"
      ]
     },
     "execution_count": 44,
     "metadata": {},
     "output_type": "execute_result"
    }
   ],
   "source": [
    "page_size_mean = page_sizes.mean()\n",
    "page_size_std = page_sizes.std()\n",
    "sample_page_size_fn = lambda e: (scipy.stats.norm.ppf(0.975) * page_size_std / page_size_mean / e) **2\n",
    "page_size_mean, page_size_std, sample_page_size_fn(0.1)"
   ]
  }
 ],
 "metadata": {
  "kernelspec": {
   "display_name": "pilotdb",
   "language": "python",
   "name": "python3"
  },
  "language_info": {
   "codemirror_mode": {
    "name": "ipython",
    "version": 3
   },
   "file_extension": ".py",
   "mimetype": "text/x-python",
   "name": "python",
   "nbconvert_exporter": "python",
   "pygments_lexer": "ipython3",
   "version": "3.11.9"
  }
 },
 "nbformat": 4,
 "nbformat_minor": 2
}
