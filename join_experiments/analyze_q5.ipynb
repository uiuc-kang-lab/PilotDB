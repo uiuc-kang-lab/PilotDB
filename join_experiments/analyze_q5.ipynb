{
 "cells": [
  {
   "cell_type": "code",
   "execution_count": 9,
   "metadata": {},
   "outputs": [
    {
     "name": "stdout",
     "output_type": "stream",
     "text": [
      "n_name groups: ['CHINA                    ' 'INDIA                    '\n",
      " 'INDONESIA                ' 'JAPAN                    '\n",
      " 'VIETNAM                  ']\n"
     ]
    },
    {
     "data": {
      "text/html": [
       "<div>\n",
       "<style scoped>\n",
       "    .dataframe tbody tr th:only-of-type {\n",
       "        vertical-align: middle;\n",
       "    }\n",
       "\n",
       "    .dataframe tbody tr th {\n",
       "        vertical-align: top;\n",
       "    }\n",
       "\n",
       "    .dataframe thead th {\n",
       "        text-align: right;\n",
       "    }\n",
       "</style>\n",
       "<table border=\"1\" class=\"dataframe\">\n",
       "  <thead>\n",
       "    <tr style=\"text-align: right;\">\n",
       "      <th></th>\n",
       "      <th>n_name</th>\n",
       "      <th>revenue</th>\n",
       "      <th>l_pageid</th>\n",
       "      <th>o_pageid</th>\n",
       "    </tr>\n",
       "  </thead>\n",
       "  <tbody>\n",
       "    <tr>\n",
       "      <th>0</th>\n",
       "      <td>CHINA</td>\n",
       "      <td>13873.3668</td>\n",
       "      <td>12</td>\n",
       "      <td>3</td>\n",
       "    </tr>\n",
       "    <tr>\n",
       "      <th>1</th>\n",
       "      <td>CHINA</td>\n",
       "      <td>72690.6180</td>\n",
       "      <td>121</td>\n",
       "      <td>27</td>\n",
       "    </tr>\n",
       "    <tr>\n",
       "      <th>2</th>\n",
       "      <td>CHINA</td>\n",
       "      <td>45979.7580</td>\n",
       "      <td>151</td>\n",
       "      <td>35</td>\n",
       "    </tr>\n",
       "    <tr>\n",
       "      <th>3</th>\n",
       "      <td>CHINA</td>\n",
       "      <td>89343.6110</td>\n",
       "      <td>224</td>\n",
       "      <td>52</td>\n",
       "    </tr>\n",
       "    <tr>\n",
       "      <th>4</th>\n",
       "      <td>CHINA</td>\n",
       "      <td>13281.1560</td>\n",
       "      <td>234</td>\n",
       "      <td>54</td>\n",
       "    </tr>\n",
       "    <tr>\n",
       "      <th>...</th>\n",
       "      <td>...</td>\n",
       "      <td>...</td>\n",
       "      <td>...</td>\n",
       "      <td>...</td>\n",
       "    </tr>\n",
       "    <tr>\n",
       "      <th>6718281</th>\n",
       "      <td>VIETNAM</td>\n",
       "      <td>50839.8800</td>\n",
       "      <td>115517549</td>\n",
       "      <td>26843200</td>\n",
       "    </tr>\n",
       "    <tr>\n",
       "      <th>6718282</th>\n",
       "      <td>VIETNAM</td>\n",
       "      <td>16274.1600</td>\n",
       "      <td>115517571</td>\n",
       "      <td>26843205</td>\n",
       "    </tr>\n",
       "    <tr>\n",
       "      <th>6718283</th>\n",
       "      <td>VIETNAM</td>\n",
       "      <td>11401.4673</td>\n",
       "      <td>115517641</td>\n",
       "      <td>26843221</td>\n",
       "    </tr>\n",
       "    <tr>\n",
       "      <th>6718284</th>\n",
       "      <td>VIETNAM</td>\n",
       "      <td>42675.8150</td>\n",
       "      <td>115517652</td>\n",
       "      <td>26843224</td>\n",
       "    </tr>\n",
       "    <tr>\n",
       "      <th>6718285</th>\n",
       "      <td>VIETNAM</td>\n",
       "      <td>65071.7466</td>\n",
       "      <td>115517724</td>\n",
       "      <td>26843240</td>\n",
       "    </tr>\n",
       "  </tbody>\n",
       "</table>\n",
       "<p>6718286 rows × 4 columns</p>\n",
       "</div>"
      ],
      "text/plain": [
       "                            n_name     revenue   l_pageid  o_pageid\n",
       "0        CHINA                      13873.3668         12         3\n",
       "1        CHINA                      72690.6180        121        27\n",
       "2        CHINA                      45979.7580        151        35\n",
       "3        CHINA                      89343.6110        224        52\n",
       "4        CHINA                      13281.1560        234        54\n",
       "...                            ...         ...        ...       ...\n",
       "6718281  VIETNAM                    50839.8800  115517549  26843200\n",
       "6718282  VIETNAM                    16274.1600  115517571  26843205\n",
       "6718283  VIETNAM                    11401.4673  115517641  26843221\n",
       "6718284  VIETNAM                    42675.8150  115517652  26843224\n",
       "6718285  VIETNAM                    65071.7466  115517724  26843240\n",
       "\n",
       "[6718286 rows x 4 columns]"
      ]
     },
     "execution_count": 9,
     "metadata": {},
     "output_type": "execute_result"
    }
   ],
   "source": [
    "import pandas as pd\n",
    "\n",
    "paged_data = pd.read_csv('/mydata/q5.csv')\n",
    "group_keys = paged_data[\"n_name\"].unique()\n",
    "print(\"n_name groups:\", group_keys)\n",
    "paged_data"
   ]
  },
  {
   "cell_type": "code",
   "execution_count": 6,
   "metadata": {},
   "outputs": [
    {
     "name": "stdout",
     "output_type": "stream",
     "text": [
      "                           l_pageid  o_pageid\n",
      "n_name                                       \n",
      "CHINA                       1343735   1313622\n",
      "INDIA                       1338930   1308984\n",
      "INDONESIA                   1346373   1316042\n",
      "JAPAN                       1341644   1311506\n",
      "VIETNAM                     1344659   1314767\n"
     ]
    }
   ],
   "source": [
    "n_pages = paged_data.groupby(\"n_name\").agg({\"l_pageid\": \"nunique\", \"o_pageid\": \"nunique\"})\n",
    "print(n_pages)"
   ]
  },
  {
   "cell_type": "code",
   "execution_count": 8,
   "metadata": {},
   "outputs": [],
   "source": [
    "n_pages_orders_before_join = 26840487\n",
    "n_pages_lineitem_before_join = {\n",
    "    \"CHINA                    \": 101666305,\n",
    "    \"INDIA                    \": 101605019,\n",
    "    \"INDONESIA                \": 101673732,\n",
    "    \"JAPAN                    \": 101614053,\n",
    "    \"VIETNAM                  \": 101681279\n",
    "}"
   ]
  },
  {
   "cell_type": "code",
   "execution_count": 33,
   "metadata": {},
   "outputs": [
    {
     "name": "stdout",
     "output_type": "stream",
     "text": [
      "CHINA                     3.9892726627042553e-08\n",
      "INDIA                     3.984986485448273e-08\n",
      "INDONESIA                 4.005517293949803e-08\n",
      "JAPAN                     3.9920096863205705e-08\n",
      "VIETNAM                   4.003781607070795e-08\n",
      "Max variance: 4.005517293949803e-08\n"
     ]
    }
   ],
   "source": [
    "import numpy as np\n",
    "l_sum = paged_data.groupby([\"n_name\", \"l_pageid\"]).agg({\"revenue\": \"sum\"})[\"revenue\"]/n_pages_orders_before_join\n",
    "group_vars_l = {}\n",
    "for group_key in group_keys:\n",
    "    group_data = np.concatenate([l_sum[group_key].to_numpy(), np.zeros(int(n_pages_lineitem_before_join[group_key] - len(l_sum[group_key])))])\n",
    "    group_var = np.var(group_data)\n",
    "    group_vars_l[group_key] = group_var\n",
    "    print(group_key, group_var)\n",
    "max_var = max(group_vars_l.values())\n",
    "print(\"Max variance:\", max_var)"
   ]
  },
  {
   "cell_type": "code",
   "execution_count": 28,
   "metadata": {},
   "outputs": [
    {
     "name": "stdout",
     "output_type": "stream",
     "text": [
      "4.550073596019586e-08\n"
     ]
    }
   ],
   "source": [
    "o_sum = paged_data.groupby([\"n_name\", \"o_pageid\"]).agg({\"revenue\": \"sum\"})[\"revenue\"]/max(n_pages_lineitem_before_join.values())\n",
    "o_data = np.concatenate([o_sum.to_numpy(), np.zeros(int(n_pages_orders_before_join - len(o_sum)))])\n",
    "o_var = np.var(o_data)\n",
    "print(o_var)"
   ]
  },
  {
   "cell_type": "code",
   "execution_count": 31,
   "metadata": {},
   "outputs": [
    {
     "name": "stdout",
     "output_type": "stream",
     "text": [
      "CHINA                     1.9372288491720066e-05\n",
      "INDIA                     1.9341518251287523e-05\n",
      "INDONESIA                 1.9433069640054626e-05\n",
      "JAPAN                     1.938072315397664e-05\n",
      "VIETNAM                   1.941314952560153e-05\n",
      "min_avg 1.9341518251287523e-05\n"
     ]
    }
   ],
   "source": [
    "avg = paged_data.groupby(\"n_name\").agg({\"revenue\": \"sum\"}) / n_pages_orders_before_join\n",
    "avgs = {}\n",
    "for group_key in group_keys:\n",
    "    avgs[group_key] = avg.loc[group_key][\"revenue\"]/n_pages_lineitem_before_join[group_key]\n",
    "    print(group_key, avgs[group_key])\n",
    "min_avg = min(avgs.values())\n",
    "print(\"min_avg\", min_avg)"
   ]
  },
  {
   "cell_type": "code",
   "execution_count": 55,
   "metadata": {},
   "outputs": [
    {
     "name": "stdout",
     "output_type": "stream",
     "text": [
      "n 1186366.2958330538\n"
     ]
    }
   ],
   "source": [
    "import scipy.stats\n",
    "z = scipy.stats.norm.ppf(0.999)\n",
    "n = z**2 * (max_var*1.1 + o_var*1.1) / ((min_avg*0.9)**2) / (0.05**2)\n",
    "print(\"n\", n)"
   ]
  },
  {
   "cell_type": "code",
   "execution_count": 56,
   "metadata": {},
   "outputs": [
    {
     "name": "stdout",
     "output_type": "stream",
     "text": [
      "sample_rate_o 0.04420062481850846\n",
      "sample_rate_l 0.011676256817914218\n"
     ]
    }
   ],
   "source": [
    "sample_rate_o = n / n_pages_orders_before_join\n",
    "sample_rate_l = n / min(n_pages_lineitem_before_join.values())\n",
    "print(\"sample_rate_o\", sample_rate_o)\n",
    "print(\"sample_rate_l\", sample_rate_l)"
   ]
  },
  {
   "cell_type": "code",
   "execution_count": 57,
   "metadata": {},
   "outputs": [
    {
     "name": "stdout",
     "output_type": "stream",
     "text": [
      "sample_rate_o 0.0492478856246085\n",
      "sample_rate_l 0.013010245799012436\n"
     ]
    }
   ],
   "source": [
    "from scipy.stats import norm\n",
    "import math\n",
    "\n",
    "def _solve_quadratic(a, b, c):\n",
    "    return (-b - math.sqrt(b**2 - 4*a*c)) / (2*a), (-b + math.sqrt(b**2 - 4*a*c)) / (2*a)\n",
    "\n",
    "def get_sample_rate(fp: float, sample_size: int, population_size: int):\n",
    "    z_val = norm.ppf(1-fp)\n",
    "    p = _solve_quadratic(a=population_size**2 + z_val**2 * population_size,\n",
    "                        b=-(2*population_size*sample_size + z_val**2 * population_size),\n",
    "                        c=sample_size**2)[1]\n",
    "    return p\n",
    "\n",
    "sample_rate_o = get_sample_rate(0.001, int(n) + 1, n_pages_orders_before_join*0.9)\n",
    "sample_rate_l = get_sample_rate(0.001, int(n) + 1, min(n_pages_lineitem_before_join.values())*0.9)\n",
    "print(\"sample_rate_o\", sample_rate_o)\n",
    "print(\"sample_rate_l\", sample_rate_l)"
   ]
  },
  {
   "cell_type": "code",
   "execution_count": 37,
   "metadata": {},
   "outputs": [
    {
     "data": {
      "text/html": [
       "<div>\n",
       "<style scoped>\n",
       "    .dataframe tbody tr th:only-of-type {\n",
       "        vertical-align: middle;\n",
       "    }\n",
       "\n",
       "    .dataframe tbody tr th {\n",
       "        vertical-align: top;\n",
       "    }\n",
       "\n",
       "    .dataframe thead th {\n",
       "        text-align: right;\n",
       "    }\n",
       "</style>\n",
       "<table border=\"1\" class=\"dataframe\">\n",
       "  <thead>\n",
       "    <tr style=\"text-align: right;\">\n",
       "      <th></th>\n",
       "      <th>revenue</th>\n",
       "    </tr>\n",
       "    <tr>\n",
       "      <th>n_name</th>\n",
       "      <th></th>\n",
       "    </tr>\n",
       "  </thead>\n",
       "  <tbody>\n",
       "    <tr>\n",
       "      <th>CHINA</th>\n",
       "      <td>5.286258e+10</td>\n",
       "    </tr>\n",
       "    <tr>\n",
       "      <th>INDIA</th>\n",
       "      <td>5.274680e+10</td>\n",
       "    </tr>\n",
       "    <tr>\n",
       "      <th>INDONESIA</th>\n",
       "      <td>5.303231e+10</td>\n",
       "    </tr>\n",
       "    <tr>\n",
       "      <th>JAPAN</th>\n",
       "      <td>5.285842e+10</td>\n",
       "    </tr>\n",
       "    <tr>\n",
       "      <th>VIETNAM</th>\n",
       "      <td>5.298188e+10</td>\n",
       "    </tr>\n",
       "  </tbody>\n",
       "</table>\n",
       "</div>"
      ],
      "text/plain": [
       "                                revenue\n",
       "n_name                                 \n",
       "CHINA                      5.286258e+10\n",
       "INDIA                      5.274680e+10\n",
       "INDONESIA                  5.303231e+10\n",
       "JAPAN                      5.285842e+10\n",
       "VIETNAM                    5.298188e+10"
      ]
     },
     "execution_count": 37,
     "metadata": {},
     "output_type": "execute_result"
    }
   ],
   "source": [
    "gt = paged_data.groupby([\"n_name\"]).agg({\"revenue\": \"sum\"})\n",
    "gt"
   ]
  }
 ],
 "metadata": {
  "kernelspec": {
   "display_name": "pilotdb",
   "language": "python",
   "name": "python3"
  },
  "language_info": {
   "codemirror_mode": {
    "name": "ipython",
    "version": 3
   },
   "file_extension": ".py",
   "mimetype": "text/x-python",
   "name": "python",
   "nbconvert_exporter": "python",
   "pygments_lexer": "ipython3",
   "version": "3.11.9"
  }
 },
 "nbformat": 4,
 "nbformat_minor": 2
}
