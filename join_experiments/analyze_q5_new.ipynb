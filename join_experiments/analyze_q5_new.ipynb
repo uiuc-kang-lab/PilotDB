{
 "cells": [
  {
   "cell_type": "code",
   "execution_count": 1,
   "metadata": {},
   "outputs": [
    {
     "name": "stdout",
     "output_type": "stream",
     "text": [
      "n_name groups: ['CHINA                    ' 'INDIA                    '\n",
      " 'INDONESIA                ' 'JAPAN                    '\n",
      " 'VIETNAM                  ']\n"
     ]
    },
    {
     "data": {
      "text/html": [
       "<div>\n",
       "<style scoped>\n",
       "    .dataframe tbody tr th:only-of-type {\n",
       "        vertical-align: middle;\n",
       "    }\n",
       "\n",
       "    .dataframe tbody tr th {\n",
       "        vertical-align: top;\n",
       "    }\n",
       "\n",
       "    .dataframe thead th {\n",
       "        text-align: right;\n",
       "    }\n",
       "</style>\n",
       "<table border=\"1\" class=\"dataframe\">\n",
       "  <thead>\n",
       "    <tr style=\"text-align: right;\">\n",
       "      <th></th>\n",
       "      <th>n_name</th>\n",
       "      <th>revenue</th>\n",
       "      <th>l_pageid</th>\n",
       "      <th>o_pageid</th>\n",
       "    </tr>\n",
       "  </thead>\n",
       "  <tbody>\n",
       "    <tr>\n",
       "      <th>0</th>\n",
       "      <td>CHINA</td>\n",
       "      <td>13873.3668</td>\n",
       "      <td>12</td>\n",
       "      <td>3</td>\n",
       "    </tr>\n",
       "    <tr>\n",
       "      <th>1</th>\n",
       "      <td>CHINA</td>\n",
       "      <td>72690.6180</td>\n",
       "      <td>121</td>\n",
       "      <td>27</td>\n",
       "    </tr>\n",
       "    <tr>\n",
       "      <th>2</th>\n",
       "      <td>CHINA</td>\n",
       "      <td>45979.7580</td>\n",
       "      <td>151</td>\n",
       "      <td>35</td>\n",
       "    </tr>\n",
       "    <tr>\n",
       "      <th>3</th>\n",
       "      <td>CHINA</td>\n",
       "      <td>89343.6110</td>\n",
       "      <td>224</td>\n",
       "      <td>52</td>\n",
       "    </tr>\n",
       "    <tr>\n",
       "      <th>4</th>\n",
       "      <td>CHINA</td>\n",
       "      <td>13281.1560</td>\n",
       "      <td>234</td>\n",
       "      <td>54</td>\n",
       "    </tr>\n",
       "    <tr>\n",
       "      <th>...</th>\n",
       "      <td>...</td>\n",
       "      <td>...</td>\n",
       "      <td>...</td>\n",
       "      <td>...</td>\n",
       "    </tr>\n",
       "    <tr>\n",
       "      <th>6718281</th>\n",
       "      <td>VIETNAM</td>\n",
       "      <td>50839.8800</td>\n",
       "      <td>115517549</td>\n",
       "      <td>26843200</td>\n",
       "    </tr>\n",
       "    <tr>\n",
       "      <th>6718282</th>\n",
       "      <td>VIETNAM</td>\n",
       "      <td>16274.1600</td>\n",
       "      <td>115517571</td>\n",
       "      <td>26843205</td>\n",
       "    </tr>\n",
       "    <tr>\n",
       "      <th>6718283</th>\n",
       "      <td>VIETNAM</td>\n",
       "      <td>11401.4673</td>\n",
       "      <td>115517641</td>\n",
       "      <td>26843221</td>\n",
       "    </tr>\n",
       "    <tr>\n",
       "      <th>6718284</th>\n",
       "      <td>VIETNAM</td>\n",
       "      <td>42675.8150</td>\n",
       "      <td>115517652</td>\n",
       "      <td>26843224</td>\n",
       "    </tr>\n",
       "    <tr>\n",
       "      <th>6718285</th>\n",
       "      <td>VIETNAM</td>\n",
       "      <td>65071.7466</td>\n",
       "      <td>115517724</td>\n",
       "      <td>26843240</td>\n",
       "    </tr>\n",
       "  </tbody>\n",
       "</table>\n",
       "<p>6718286 rows × 4 columns</p>\n",
       "</div>"
      ],
      "text/plain": [
       "                            n_name     revenue   l_pageid  o_pageid\n",
       "0        CHINA                      13873.3668         12         3\n",
       "1        CHINA                      72690.6180        121        27\n",
       "2        CHINA                      45979.7580        151        35\n",
       "3        CHINA                      89343.6110        224        52\n",
       "4        CHINA                      13281.1560        234        54\n",
       "...                            ...         ...        ...       ...\n",
       "6718281  VIETNAM                    50839.8800  115517549  26843200\n",
       "6718282  VIETNAM                    16274.1600  115517571  26843205\n",
       "6718283  VIETNAM                    11401.4673  115517641  26843221\n",
       "6718284  VIETNAM                    42675.8150  115517652  26843224\n",
       "6718285  VIETNAM                    65071.7466  115517724  26843240\n",
       "\n",
       "[6718286 rows x 4 columns]"
      ]
     },
     "execution_count": 1,
     "metadata": {},
     "output_type": "execute_result"
    }
   ],
   "source": [
    "import pandas as pd\n",
    "\n",
    "paged_data = pd.read_csv('/mydata/q5.csv')\n",
    "group_keys = paged_data[\"n_name\"].unique()\n",
    "print(\"n_name groups:\", group_keys)\n",
    "paged_data"
   ]
  },
  {
   "cell_type": "code",
   "execution_count": 24,
   "metadata": {},
   "outputs": [
    {
     "name": "stdout",
     "output_type": "stream",
     "text": [
      "n_pages_l:\n",
      " n_name\n",
      "CHINA                        1343735\n",
      "INDIA                        1338930\n",
      "INDONESIA                    1346373\n",
      "JAPAN                        1341644\n",
      "VIETNAM                      1344659\n",
      "Name: l_pageid, dtype: int64\n",
      "n_pages_o:\n",
      " n_name\n",
      "CHINA                        1313622\n",
      "INDIA                        1308984\n",
      "INDONESIA                    1316042\n",
      "JAPAN                        1311506\n",
      "VIETNAM                      1314767\n",
      "Name: o_pageid, dtype: int64\n"
     ]
    }
   ],
   "source": [
    "n_pages_l = paged_data.groupby(\"n_name\").agg({\"l_pageid\": \"nunique\"})[\"l_pageid\"]\n",
    "n_pages_o = paged_data.groupby(\"n_name\").agg({\"o_pageid\": \"nunique\"})[\"o_pageid\"]\n",
    "print(\"n_pages_l:\\n\", n_pages_l)\n",
    "print(\"n_pages_o:\\n\", n_pages_o)"
   ]
  },
  {
   "cell_type": "code",
   "execution_count": 25,
   "metadata": {},
   "outputs": [
    {
     "name": "stdout",
     "output_type": "stream",
     "text": [
      "CHINA                     variance: 0.00037506280226122084\n",
      "INDIA                     variance: 0.000377627993634817\n",
      "INDONESIA                 variance: 0.0003742441265524557\n",
      "JAPAN                     variance: 0.0003758199322881002\n",
      "VIETNAM                   variance: 0.00037553645895018633\n"
     ]
    }
   ],
   "source": [
    "import numpy as np\n",
    "l_sum = paged_data.groupby([\"n_name\", \"l_pageid\"]).agg({\"revenue\": \"sum\"})[\"revenue\"]\n",
    "group_keys = paged_data[\"n_name\"].unique()\n",
    "for group_key in group_keys:\n",
    "    group_l_sum = l_sum[group_key] / n_pages_o[group_key]\n",
    "    group_l_sum = np.concatenate([group_l_sum, np.zeros(n_pages_l[group_key] - len(group_l_sum))])\n",
    "    group_l_var = np.var(group_l_sum)\n",
    "    print(f\"{group_key} variance: {group_l_var}\")"
   ]
  },
  {
   "cell_type": "code",
   "execution_count": 26,
   "metadata": {},
   "outputs": [
    {
     "name": "stdout",
     "output_type": "stream",
     "text": [
      "CHINA                     variance: 0.00037553645895018633\n",
      "INDIA                     variance: 0.00037553645895018633\n",
      "INDONESIA                 variance: 0.00037553645895018633\n",
      "JAPAN                     variance: 0.00037553645895018633\n",
      "VIETNAM                   variance: 0.00037553645895018633\n"
     ]
    }
   ],
   "source": [
    "import numpy as np\n",
    "o_sum = paged_data.groupby([\"n_name\", \"o_pageid\"]).agg({\"revenue\": \"sum\"})[\"revenue\"]\n",
    "group_keys = paged_data[\"n_name\"].unique()\n",
    "for group_key in group_keys:\n",
    "    group_o_sum = o_sum[group_key] / n_pages_l[group_key]\n",
    "    group_o_sum = np.concatenate([group_o_sum, np.zeros(n_pages_o[group_key] - len(group_o_sum))])\n",
    "    group_o_var = np.var(group_l_sum)\n",
    "    print(f\"{group_key} variance: {group_o_var}\")"
   ]
  },
  {
   "cell_type": "code",
   "execution_count": 27,
   "metadata": {},
   "outputs": [
    {
     "name": "stdout",
     "output_type": "stream",
     "text": [
      "CHINA                     0.029947758106510305\n",
      "INDIA                     0.030095662243414225\n",
      "INDONESIA                 0.02992991063597837\n",
      "JAPAN                     0.03004045932906786\n",
      "VIETNAM                   0.02996859850960451\n",
      "min_avg 0.02992991063597837\n"
     ]
    }
   ],
   "source": [
    "avg = paged_data.groupby(\"n_name\").agg({\"revenue\": \"sum\"})\n",
    "avgs = {}\n",
    "for group_key in group_keys:\n",
    "    avgs[group_key] = avg.loc[group_key][\"revenue\"] / n_pages_o[group_key] / n_pages_l[group_key]\n",
    "    print(group_key, avgs[group_key])\n",
    "min_avg = min(avgs.values())\n",
    "print(\"min_avg\", min_avg)"
   ]
  },
  {
   "cell_type": "code",
   "execution_count": null,
   "metadata": {},
   "outputs": [],
   "source": [
    "import scipy.stats\n",
    "z = scipy.stats.norm.ppf(0.999)\n",
    "n = z**2 * (max_var*1.1 + o_var*1.1) / ((min_avg*0.9)**2) / (0.05**2)\n",
    "print(\"n\", n)"
   ]
  },
  {
   "cell_type": "code",
   "execution_count": 28,
   "metadata": {},
   "outputs": [
    {
     "data": {
      "text/plain": [
       "0.6470630148585659"
      ]
     },
     "execution_count": 28,
     "metadata": {},
     "output_type": "execute_result"
    }
   ],
   "source": [
    "import math\n",
    "math.sqrt(0.00037506280226122084) / 0.02992991063597837"
   ]
  }
 ],
 "metadata": {
  "kernelspec": {
   "display_name": "pilotdb",
   "language": "python",
   "name": "python3"
  },
  "language_info": {
   "codemirror_mode": {
    "name": "ipython",
    "version": 3
   },
   "file_extension": ".py",
   "mimetype": "text/x-python",
   "name": "python",
   "nbconvert_exporter": "python",
   "pygments_lexer": "ipython3",
   "version": "3.11.9"
  }
 },
 "nbformat": 4,
 "nbformat_minor": 2
}
