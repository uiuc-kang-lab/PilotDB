{
 "cells": [
  {
   "cell_type": "code",
   "execution_count": 1,
   "metadata": {},
   "outputs": [
    {
     "data": {
      "text/plain": [
       "(array(['CHINA                    ', 'INDIA                    ',\n",
       "        'INDONESIA                ', 'JAPAN                    ',\n",
       "        'VIETNAM                  '], dtype=object),\n",
       "                             n_name     revenue   l_pageid  o_pageid\n",
       " 0        CHINA                      13873.3668         12         3\n",
       " 1        CHINA                      72690.6180        121        27\n",
       " 2        CHINA                      45979.7580        151        35\n",
       " 3        CHINA                      89343.6110        224        52\n",
       " 4        CHINA                      13281.1560        234        54\n",
       " ...                            ...         ...        ...       ...\n",
       " 6718281  VIETNAM                    50839.8800  115517549  26843200\n",
       " 6718282  VIETNAM                    16274.1600  115517571  26843205\n",
       " 6718283  VIETNAM                    11401.4673  115517641  26843221\n",
       " 6718284  VIETNAM                    42675.8150  115517652  26843224\n",
       " 6718285  VIETNAM                    65071.7466  115517724  26843240\n",
       " \n",
       " [6718286 rows x 4 columns])"
      ]
     },
     "execution_count": 1,
     "metadata": {},
     "output_type": "execute_result"
    }
   ],
   "source": [
    "import pandas as pd\n",
    "unagg = pd.read_csv(\"/mydata/q5.csv\")\n",
    "group_keys = unagg[\"n_name\"].unique()\n",
    "group_keys, unagg"
   ]
  },
  {
   "cell_type": "code",
   "execution_count": 2,
   "metadata": {},
   "outputs": [
    {
     "data": {
      "text/html": [
       "<div>\n",
       "<style scoped>\n",
       "    .dataframe tbody tr th:only-of-type {\n",
       "        vertical-align: middle;\n",
       "    }\n",
       "\n",
       "    .dataframe tbody tr th {\n",
       "        vertical-align: top;\n",
       "    }\n",
       "\n",
       "    .dataframe thead th {\n",
       "        text-align: right;\n",
       "    }\n",
       "</style>\n",
       "<table border=\"1\" class=\"dataframe\">\n",
       "  <thead>\n",
       "    <tr style=\"text-align: right;\">\n",
       "      <th></th>\n",
       "      <th>n_name</th>\n",
       "      <th>revenue</th>\n",
       "      <th>l_pageid</th>\n",
       "      <th>o_pageid</th>\n",
       "    </tr>\n",
       "  </thead>\n",
       "  <tbody>\n",
       "    <tr>\n",
       "      <th>0</th>\n",
       "      <td>CHINA</td>\n",
       "      <td>13873.3668</td>\n",
       "      <td>12</td>\n",
       "      <td>3</td>\n",
       "    </tr>\n",
       "    <tr>\n",
       "      <th>1</th>\n",
       "      <td>CHINA</td>\n",
       "      <td>72690.6180</td>\n",
       "      <td>121</td>\n",
       "      <td>27</td>\n",
       "    </tr>\n",
       "    <tr>\n",
       "      <th>2</th>\n",
       "      <td>CHINA</td>\n",
       "      <td>45979.7580</td>\n",
       "      <td>151</td>\n",
       "      <td>35</td>\n",
       "    </tr>\n",
       "    <tr>\n",
       "      <th>3</th>\n",
       "      <td>CHINA</td>\n",
       "      <td>89343.6110</td>\n",
       "      <td>224</td>\n",
       "      <td>52</td>\n",
       "    </tr>\n",
       "    <tr>\n",
       "      <th>4</th>\n",
       "      <td>CHINA</td>\n",
       "      <td>13281.1560</td>\n",
       "      <td>234</td>\n",
       "      <td>54</td>\n",
       "    </tr>\n",
       "    <tr>\n",
       "      <th>...</th>\n",
       "      <td>...</td>\n",
       "      <td>...</td>\n",
       "      <td>...</td>\n",
       "      <td>...</td>\n",
       "    </tr>\n",
       "    <tr>\n",
       "      <th>1344356</th>\n",
       "      <td>CHINA</td>\n",
       "      <td>64183.8960</td>\n",
       "      <td>115517500</td>\n",
       "      <td>26843189</td>\n",
       "    </tr>\n",
       "    <tr>\n",
       "      <th>1344357</th>\n",
       "      <td>CHINA</td>\n",
       "      <td>15169.7052</td>\n",
       "      <td>115517515</td>\n",
       "      <td>26843192</td>\n",
       "    </tr>\n",
       "    <tr>\n",
       "      <th>1344358</th>\n",
       "      <td>CHINA</td>\n",
       "      <td>86915.5000</td>\n",
       "      <td>115517530</td>\n",
       "      <td>26843196</td>\n",
       "    </tr>\n",
       "    <tr>\n",
       "      <th>1344359</th>\n",
       "      <td>CHINA</td>\n",
       "      <td>16788.4780</td>\n",
       "      <td>115517698</td>\n",
       "      <td>26843234</td>\n",
       "    </tr>\n",
       "    <tr>\n",
       "      <th>1344360</th>\n",
       "      <td>CHINA</td>\n",
       "      <td>50992.6684</td>\n",
       "      <td>115517704</td>\n",
       "      <td>26843236</td>\n",
       "    </tr>\n",
       "  </tbody>\n",
       "</table>\n",
       "<p>1344361 rows × 4 columns</p>\n",
       "</div>"
      ],
      "text/plain": [
       "                            n_name     revenue   l_pageid  o_pageid\n",
       "0        CHINA                      13873.3668         12         3\n",
       "1        CHINA                      72690.6180        121        27\n",
       "2        CHINA                      45979.7580        151        35\n",
       "3        CHINA                      89343.6110        224        52\n",
       "4        CHINA                      13281.1560        234        54\n",
       "...                            ...         ...        ...       ...\n",
       "1344356  CHINA                      64183.8960  115517500  26843189\n",
       "1344357  CHINA                      15169.7052  115517515  26843192\n",
       "1344358  CHINA                      86915.5000  115517530  26843196\n",
       "1344359  CHINA                      16788.4780  115517698  26843234\n",
       "1344360  CHINA                      50992.6684  115517704  26843236\n",
       "\n",
       "[1344361 rows x 4 columns]"
      ]
     },
     "execution_count": 2,
     "metadata": {},
     "output_type": "execute_result"
    }
   ],
   "source": [
    "unagg_china = unagg[unagg['n_name'] == 'CHINA                    ']\n",
    "unagg_china"
   ]
  },
  {
   "cell_type": "code",
   "execution_count": 3,
   "metadata": {},
   "outputs": [
    {
     "data": {
      "text/plain": [
       "l_pageid\n",
       "12           13873.3668\n",
       "121          72690.6180\n",
       "151          45979.7580\n",
       "224          89343.6110\n",
       "234          13281.1560\n",
       "                ...    \n",
       "115517500    64183.8960\n",
       "115517515    15169.7052\n",
       "115517530    86915.5000\n",
       "115517698    16788.4780\n",
       "115517704    50992.6684\n",
       "Name: revenue, Length: 1343735, dtype: float64"
      ]
     },
     "execution_count": 3,
     "metadata": {},
     "output_type": "execute_result"
    }
   ],
   "source": [
    "unagg_china.groupby(\"l_pageid\").sum()[\"revenue\"]"
   ]
  },
  {
   "cell_type": "code",
   "execution_count": 6,
   "metadata": {},
   "outputs": [
    {
     "data": {
      "text/plain": [
       "(2.794452412022734e+21,\n",
       " 2949293638606829.0,\n",
       " 3042138631903567.0,\n",
       " 2947340945558816.0,\n",
       " 52862580451.797226)"
      ]
     },
     "execution_count": 6,
     "metadata": {},
     "output_type": "execute_result"
    }
   ],
   "source": [
    "import numpy as np\n",
    "y_empty = (unagg_china[\"revenue\"].sum() ** 2).item()\n",
    "y_l = np.sum(unagg_china.groupby(\"l_pageid\").sum()[\"revenue\"] ** 2).item()\n",
    "y_o = np.sum(unagg_china.groupby(\"o_pageid\").sum()[\"revenue\"] ** 2).item()\n",
    "y_lo = np.sum(unagg_china[\"revenue\"] ** 2).item()\n",
    "sum_china = unagg_china[\"revenue\"].sum()\n",
    "y_empty, y_l, y_o, y_lo, sum_china"
   ]
  },
  {
   "cell_type": "code",
   "execution_count": 8,
   "metadata": {},
   "outputs": [
    {
     "data": {
      "text/plain": [
       "7.31567611774731e+17"
      ]
     },
     "execution_count": 8,
     "metadata": {},
     "output_type": "execute_result"
    }
   ],
   "source": [
    "from scipy.stats import norm\n",
    "z_val = norm.ppf(0.999)\n",
    "max_var = ((sum_china * 0.05) / z_val) **2\n",
    "max_var"
   ]
  },
  {
   "cell_type": "code",
   "execution_count": 11,
   "metadata": {},
   "outputs": [
    {
     "name": "stdout",
     "output_type": "stream",
     "text": [
      "single table sampling lineitem sample rate 0.50%, variance 586909434083016704.00\n",
      "lineitem sample rate 0.90%, order sample rate 50.00%, variance 652327124510179328.00\n",
      "lineitem sample rate 1.00%, order sample rate 50.00%, variance 586808962464088064.00\n",
      "lineitem sample rate 2.00%, order sample rate 30.00%, variance 488593026541682688.00\n",
      "lineitem sample rate 2.00%, order sample rate 40.00%, variance 365708155738914816.00\n",
      "lineitem sample rate 2.00%, order sample rate 50.00%, variance 291977233255890944.00\n",
      "lineitem sample rate 3.00%, order sample rate 20.00%, variance 488718477802078208.00\n",
      "lineitem sample rate 3.00%, order sample rate 30.00%, variance 324819318015524864.00\n",
      "lineitem sample rate 3.00%, order sample rate 40.00%, variance 242869738123296768.00\n",
      "lineitem sample rate 3.00%, order sample rate 50.00%, variance 193699990186491904.00\n",
      "lineitem sample rate 4.00%, order sample rate 20.00%, variance 365896332628983808.00\n",
      "lineitem sample rate 4.00%, order sample rate 30.00%, variance 242932463752445952.00\n",
      "lineitem sample rate 4.00%, order sample rate 40.00%, variance 181450529315487744.00\n",
      "lineitem sample rate 4.00%, order sample rate 50.00%, variance 144561368652054528.00\n",
      "lineitem sample rate 5.00%, order sample rate 9.00%, variance 653012924731752448.00\n",
      "lineitem sample rate 5.00%, order sample rate 10.00%, variance 587411128510840832.00\n",
      "lineitem sample rate 5.00%, order sample rate 20.00%, variance 292203045524078592.00\n",
      "lineitem sample rate 5.00%, order sample rate 30.00%, variance 193800351194808320.00\n",
      "lineitem sample rate 5.00%, order sample rate 40.00%, variance 144599004030173184.00\n",
      "lineitem sample rate 5.00%, order sample rate 50.00%, variance 115078195730972672.00\n",
      "lineitem sample rate 6.00%, order sample rate 7.00%, variance 700090550401368064.00\n",
      "lineitem sample rate 6.00%, order sample rate 8.00%, variance 612202788296851456.00\n",
      "lineitem sample rate 6.00%, order sample rate 9.00%, variance 543845639993163776.00\n",
      "lineitem sample rate 6.00%, order sample rate 10.00%, variance 489159921349165056.00\n",
      "lineitem sample rate 6.00%, order sample rate 20.00%, variance 243074187454840832.00\n",
      "lineitem sample rate 6.00%, order sample rate 30.00%, variance 161045609488842752.00\n",
      "lineitem sample rate 6.00%, order sample rate 40.00%, variance 120031320507154432.00\n",
      "lineitem sample rate 6.00%, order sample rate 50.00%, variance 95422747116568576.00\n",
      "lineitem sample rate 7.00%, order sample rate 6.00%, variance 700311609909182464.00\n",
      "lineitem sample rate 7.00%, order sample rate 7.00%, variance 599836209107173376.00\n",
      "lineitem sample rate 7.00%, order sample rate 8.00%, variance 524479658503700480.00\n",
      "lineitem sample rate 7.00%, order sample rate 9.00%, variance 465869008036429824.00\n",
      "lineitem sample rate 7.00%, order sample rate 10.00%, variance 418980487661879296.00\n",
      "lineitem sample rate 7.00%, order sample rate 20.00%, variance 207982145976664064.00\n",
      "lineitem sample rate 7.00%, order sample rate 30.00%, variance 137649365413527552.00\n",
      "lineitem sample rate 7.00%, order sample rate 40.00%, variance 102482975133794304.00\n",
      "lineitem sample rate 7.00%, order sample rate 50.00%, variance 81383140964171776.00\n",
      "lineitem sample rate 8.00%, order sample rate 6.00%, variance 612589642436313088.00\n",
      "lineitem sample rate 8.00%, order sample rate 7.00%, variance 524645453135347712.00\n",
      "lineitem sample rate 8.00%, order sample rate 8.00%, variance 458687311160803328.00\n",
      "lineitem sample rate 8.00%, order sample rate 9.00%, variance 407386534070190080.00\n",
      "lineitem sample rate 8.00%, order sample rate 10.00%, variance 366345912397070336.00\n",
      "lineitem sample rate 8.00%, order sample rate 20.00%, variance 181663114868031488.00\n",
      "lineitem sample rate 8.00%, order sample rate 30.00%, variance 120102182357827584.00\n",
      "lineitem sample rate 8.00%, order sample rate 40.00%, variance 89321716103774208.00\n",
      "lineitem sample rate 8.00%, order sample rate 50.00%, variance 70853436349874176.00\n",
      "lineitem sample rate 9.00%, order sample rate 5.00%, variance 653838213560401920.00\n",
      "lineitem sample rate 9.00%, order sample rate 6.00%, variance 544361445511397376.00\n",
      "lineitem sample rate 9.00%, order sample rate 7.00%, variance 466163754046849024.00\n",
      "lineitem sample rate 9.00%, order sample rate 8.00%, variance 407515485448962048.00\n",
      "lineitem sample rate 9.00%, order sample rate 9.00%, variance 361900165428674560.00\n",
      "lineitem sample rate 9.00%, order sample rate 10.00%, variance 325407909412864000.00\n",
      "lineitem sample rate 9.00%, order sample rate 20.00%, variance 161192757339619328.00\n",
      "lineitem sample rate 9.00%, order sample rate 30.00%, variance 106454373313282048.00\n",
      "lineitem sample rate 9.00%, order sample rate 40.00%, variance 79085181302472704.00\n",
      "lineitem sample rate 9.00%, order sample rate 50.00%, variance 62663666093785088.00\n",
      "lineitem sample rate 10.00%, order sample rate 5.00%, variance 588339578443661312.00\n",
      "lineitem sample rate 10.00%, order sample rate 6.00%, variance 489778887971569664.00\n",
      "lineitem sample rate 10.00%, order sample rate 7.00%, variance 419378394776469504.00\n",
      "lineitem sample rate 10.00%, order sample rate 8.00%, variance 366578024880013312.00\n",
      "lineitem sample rate 10.00%, order sample rate 9.00%, variance 325511070517035008.00\n",
      "lineitem sample rate 10.00%, order sample rate 10.00%, variance 292657507024240640.00\n",
      "lineitem sample rate 10.00%, order sample rate 20.00%, variance 144816471315316736.00\n",
      "lineitem sample rate 10.00%, order sample rate 30.00%, variance 95536126079008768.00\n",
      "lineitem sample rate 10.00%, order sample rate 40.00%, variance 70895953460592640.00\n",
      "lineitem sample rate 10.00%, order sample rate 50.00%, variance 56111849888808960.00\n",
      "lineitem sample rate 20.00%, order sample rate 3.00%, variance 491349085945069568.00\n",
      "lineitem sample rate 20.00%, order sample rate 4.00%, variance 367753232494100480.00\n",
      "lineitem sample rate 20.00%, order sample rate 5.00%, variance 293595720422785024.00\n",
      "lineitem sample rate 20.00%, order sample rate 6.00%, variance 244157379043131392.00\n",
      "lineitem sample rate 20.00%, order sample rate 7.00%, variance 208844278057140224.00\n",
      "lineitem sample rate 20.00%, order sample rate 8.00%, variance 182359452316860416.00\n",
      "lineitem sample rate 20.00%, order sample rate 9.00%, variance 161760143409676288.00\n",
      "lineitem sample rate 20.00%, order sample rate 10.00%, variance 145280696281202688.00\n",
      "lineitem sample rate 20.00%, order sample rate 20.00%, variance 71123184210935808.00\n",
      "lineitem sample rate 20.00%, order sample rate 30.00%, variance 46404013520846848.00\n",
      "lineitem sample rate 20.00%, order sample rate 40.00%, variance 34044428175802368.00\n",
      "lineitem sample rate 20.00%, order sample rate 50.00%, variance 26628676968251392.00\n",
      "lineitem sample rate 30.00%, order sample rate 2.00%, variance 492925792895369216.00\n",
      "lineitem sample rate 30.00%, order sample rate 3.00%, variance 327604667814510592.00\n",
      "lineitem sample rate 30.00%, order sample rate 4.00%, variance 244944105273556992.00\n",
      "lineitem sample rate 30.00%, order sample rate 5.00%, variance 195347767749509120.00\n",
      "lineitem sample rate 30.00%, order sample rate 6.00%, variance 162283542733127680.00\n",
      "lineitem sample rate 30.00%, order sample rate 7.00%, variance 138666239149998080.00\n",
      "lineitem sample rate 30.00%, order sample rate 8.00%, variance 120953261462650880.00\n",
      "lineitem sample rate 30.00%, order sample rate 9.00%, variance 107176501039333376.00\n",
      "lineitem sample rate 30.00%, order sample rate 10.00%, variance 96155092700889088.00\n",
      "lineitem sample rate 30.00%, order sample rate 20.00%, variance 46558755176841216.00\n",
      "lineitem sample rate 30.00%, order sample rate 30.00%, variance 30026642668126208.00\n",
      "lineitem sample rate 30.00%, order sample rate 40.00%, variance 21760586414555136.00\n",
      "lineitem sample rate 30.00%, order sample rate 50.00%, variance 16800952661573632.00\n",
      "lineitem sample rate 40.00%, order sample rate 2.00%, variance 370118292920074240.00\n",
      "lineitem sample rate 40.00%, order sample rate 3.00%, variance 245732458749755392.00\n",
      "lineitem sample rate 40.00%, order sample rate 4.00%, variance 183539541664071680.00\n",
      "lineitem sample rate 40.00%, order sample rate 5.00%, variance 146223791412346880.00\n",
      "lineitem sample rate 40.00%, order sample rate 6.00%, variance 121346624578912256.00\n",
      "lineitem sample rate 40.00%, order sample rate 7.00%, variance 103577219697737728.00\n",
      "lineitem sample rate 40.00%, order sample rate 8.00%, variance 90250166036070400.00\n",
      "lineitem sample rate 40.00%, order sample rate 9.00%, variance 79884679855996928.00\n",
      "lineitem sample rate 40.00%, order sample rate 10.00%, variance 71592290909945856.00\n",
      "lineitem sample rate 40.00%, order sample rate 20.00%, variance 34276540659269632.00\n",
      "lineitem sample rate 40.00%, order sample rate 30.00%, variance 21837957242028032.00\n",
      "lineitem sample rate 40.00%, order sample rate 40.00%, variance 15618665533669376.00\n",
      "lineitem sample rate 40.00%, order sample rate 50.00%, variance 11887090507710464.00\n",
      "lineitem sample rate 50.00%, order sample rate 0.90%, variance 662457544889860096.00\n",
      "lineitem sample rate 50.00%, order sample rate 1.00%, variance 595907771806777344.00\n",
      "lineitem sample rate 50.00%, order sample rate 2.00%, variance 296433792933953536.00\n",
      "lineitem sample rate 50.00%, order sample rate 3.00%, variance 196609133309853696.00\n",
      "lineitem sample rate 50.00%, order sample rate 4.00%, variance 146696803497541632.00\n",
      "lineitem sample rate 50.00%, order sample rate 5.00%, variance 116749405610049536.00\n",
      "lineitem sample rate 50.00%, order sample rate 6.00%, variance 96784473685229568.00\n",
      "lineitem sample rate 50.00%, order sample rate 7.00%, variance 82523808025018368.00\n",
      "lineitem sample rate 50.00%, order sample rate 8.00%, variance 71828308779073536.00\n",
      "lineitem sample rate 50.00%, order sample rate 9.00%, variance 63509587144212480.00\n",
      "lineitem sample rate 50.00%, order sample rate 10.00%, variance 56854609835065344.00\n",
      "lineitem sample rate 50.00%, order sample rate 20.00%, variance 26907211948621824.00\n",
      "lineitem sample rate 50.00%, order sample rate 30.00%, variance 16924745985949696.00\n",
      "lineitem sample rate 50.00%, order sample rate 40.00%, variance 11933513004613632.00\n",
      "lineitem sample rate 50.00%, order sample rate 50.00%, variance 8938773215707136.00\n"
     ]
    }
   ],
   "source": [
    "def get_var(theta1, theta2):\n",
    "    a = theta1 * theta2\n",
    "    b_empty = (theta1 ** 2) * (theta2 ** 2)\n",
    "    b_l = theta1 * (theta2 **2)\n",
    "    b_o = (theta1 ** 2) * theta2\n",
    "    b_lo = theta1 * theta2\n",
    "    c_empty = b_empty\n",
    "    c_l = -b_empty + b_l\n",
    "    c_o = -b_empty + b_o\n",
    "    c_lo = b_empty - b_l - b_o + b_lo\n",
    "    return c_empty / (a**2) * y_empty + c_l / (a**2) * y_l + c_o / (a**2) * y_o + c_lo / (a**2) * y_lo - y_empty\n",
    "\n",
    "search_space = [0.0001 * i for i in range(1, 10)] + [0.001 * i for i in range(1, 10)] + [0.01 * i for i in range(1, 10)] + [0.1 * i for i in range(1, 6)]\n",
    "\n",
    "for theta1 in search_space:\n",
    "    var = get_var(theta1, 1)\n",
    "    if var < max_var:\n",
    "        print(f\"single table sampling lineitem sample rate {theta1*100:.2f}%, variance {var:.2f}\")\n",
    "        break\n",
    "\n",
    "for theta1 in search_space:\n",
    "    for theta2 in search_space:\n",
    "        var = get_var(theta1, theta2)\n",
    "        if var < max_var:\n",
    "            print(f\"lineitem sample rate {theta1*100:.2f}%, order sample rate {theta2*100:.2f}%, variance {var:.2f}\")\n"
   ]
  },
  {
   "cell_type": "code",
   "execution_count": 5,
   "metadata": {},
   "outputs": [
    {
     "data": {
      "text/plain": [
       "(0.0001,\n",
       " (1e-08, 1.0000000000000002e-06, 1.0000000000000002e-06, 0.0001),\n",
       " (1e-08, 9.900000000000003e-07, 9.900000000000003e-07, 9.801e-05))"
      ]
     },
     "execution_count": 5,
     "metadata": {},
     "output_type": "execute_result"
    }
   ],
   "source": [
    "theta1 = 0.01\n",
    "theta2 = 0.01\n",
    "a = theta1 * theta2\n",
    "b_empty = (theta1 ** 2) * (theta2 ** 2)\n",
    "b_l = theta1 * (theta2 **2)\n",
    "b_o = (theta1 ** 2) * theta2\n",
    "b_lo = theta1 * theta2\n",
    "c_empty = b_empty\n",
    "c_l = -b_empty + b_l\n",
    "c_o = -b_empty + b_o\n",
    "c_lo = b_empty - b_l - b_o + b_lo\n",
    "a, (b_empty, b_l, b_o, b_lo), (c_empty, c_l, c_o, c_lo)"
   ]
  },
  {
   "cell_type": "code",
   "execution_count": 15,
   "metadata": {},
   "outputs": [
    {
     "name": "stdout",
     "output_type": "stream",
     "text": [
      "1.0 2.794452412022734e+21\n",
      "99.00000000000003 2949293638606829.0\n",
      "99.00000000000003 3042138631903567.0\n",
      "9801.0 2947340945558816.0\n"
     ]
    },
    {
     "data": {
      "text/plain": [
       "2.9480040402202395e+19"
      ]
     },
     "execution_count": 15,
     "metadata": {},
     "output_type": "execute_result"
    }
   ],
   "source": [
    "import math\n",
    "print(c_empty / (a**2), y_empty)\n",
    "print(c_l / (a**2), y_l)\n",
    "print(c_o / (a**2), y_o)\n",
    "print(c_lo / (a**2), y_lo)\n",
    "sum_sigma2 = c_empty / (a**2) * y_empty + c_l / (a**2) * y_l + c_o / (a**2) * y_o + c_lo / (a**2) * y_lo - y_empty\n",
    "sum_sigma2"
   ]
  },
  {
   "cell_type": "code",
   "execution_count": 3,
   "metadata": {},
   "outputs": [
    {
     "data": {
      "text/plain": [
       "(np.float64(4.917963431594842e+19), 42)"
      ]
     },
     "execution_count": 3,
     "metadata": {},
     "output_type": "execute_result"
    }
   ],
   "source": [
    "import glob\n",
    "import numpy as np\n",
    "result_files = glob.glob(\"results/*\")\n",
    "results = []\n",
    "for result_file in result_files:\n",
    "    with open(result_file) as f:\n",
    "        result = f.readlines()\n",
    "        if len(result) > 0:\n",
    "            result = result[2]\n",
    "            result = float(result.split(\"|\")[-1].strip())\n",
    "            results.append(result)\n",
    "np.var(results, ddof=1), len(results)"
   ]
  },
  {
   "cell_type": "code",
   "execution_count": 59,
   "metadata": {},
   "outputs": [
    {
     "data": {
      "text/plain": [
       "(array(['CHINA                    ', 'INDIA                    ',\n",
       "        'INDONESIA                ', 'JAPAN                    ',\n",
       "        'VIETNAM                  '], dtype=object),\n",
       "                         n_name   l_pageid  o_pageid     revenue\n",
       " 0    CHINA                         123374     28669  54782.7660\n",
       " 1    CHINA                         277119     64407   3023.8284\n",
       " 2    CHINA                        1210536    281342  78016.2075\n",
       " 3    CHINA                        2859326    664442   8001.0168\n",
       " 4    CHINA                        2877724    668718  63842.8120\n",
       " ..                         ...        ...       ...         ...\n",
       " 658  VIETNAM                    109049523  25340261  26666.5122\n",
       " 659  VIETNAM                    109951720  25549904  28104.7410\n",
       " 660  VIETNAM                    110263802  25622395  52133.3505\n",
       " 661  VIETNAM                    115111551  26748860  48239.0349\n",
       " 662  VIETNAM                    115179550  26764661  49713.5826\n",
       " \n",
       " [663 rows x 4 columns])"
      ]
     },
     "execution_count": 59,
     "metadata": {},
     "output_type": "execute_result"
    }
   ],
   "source": [
    "import pandas as pd\n",
    "unagg = pd.read_csv(\"pilot_result_1.csv\")\n",
    "group_keys = unagg[\"n_name\"].unique()\n",
    "group_keys, unagg"
   ]
  },
  {
   "cell_type": "code",
   "execution_count": 41,
   "metadata": {},
   "outputs": [
    {
     "data": {
      "text/html": [
       "<div>\n",
       "<style scoped>\n",
       "    .dataframe tbody tr th:only-of-type {\n",
       "        vertical-align: middle;\n",
       "    }\n",
       "\n",
       "    .dataframe tbody tr th {\n",
       "        vertical-align: top;\n",
       "    }\n",
       "\n",
       "    .dataframe thead th {\n",
       "        text-align: right;\n",
       "    }\n",
       "</style>\n",
       "<table border=\"1\" class=\"dataframe\">\n",
       "  <thead>\n",
       "    <tr style=\"text-align: right;\">\n",
       "      <th></th>\n",
       "      <th>n_name</th>\n",
       "      <th>l_pageid</th>\n",
       "      <th>o_pageid</th>\n",
       "      <th>revenue</th>\n",
       "    </tr>\n",
       "  </thead>\n",
       "  <tbody>\n",
       "    <tr>\n",
       "      <th>0</th>\n",
       "      <td>CHINA</td>\n",
       "      <td>123374</td>\n",
       "      <td>28669</td>\n",
       "      <td>54782.7660</td>\n",
       "    </tr>\n",
       "    <tr>\n",
       "      <th>1</th>\n",
       "      <td>CHINA</td>\n",
       "      <td>277119</td>\n",
       "      <td>64407</td>\n",
       "      <td>3023.8284</td>\n",
       "    </tr>\n",
       "    <tr>\n",
       "      <th>2</th>\n",
       "      <td>CHINA</td>\n",
       "      <td>1210536</td>\n",
       "      <td>281342</td>\n",
       "      <td>78016.2075</td>\n",
       "    </tr>\n",
       "    <tr>\n",
       "      <th>3</th>\n",
       "      <td>CHINA</td>\n",
       "      <td>2859326</td>\n",
       "      <td>664442</td>\n",
       "      <td>8001.0168</td>\n",
       "    </tr>\n",
       "    <tr>\n",
       "      <th>4</th>\n",
       "      <td>CHINA</td>\n",
       "      <td>2877724</td>\n",
       "      <td>668718</td>\n",
       "      <td>63842.8120</td>\n",
       "    </tr>\n",
       "    <tr>\n",
       "      <th>...</th>\n",
       "      <td>...</td>\n",
       "      <td>...</td>\n",
       "      <td>...</td>\n",
       "      <td>...</td>\n",
       "    </tr>\n",
       "    <tr>\n",
       "      <th>143</th>\n",
       "      <td>CHINA</td>\n",
       "      <td>113429303</td>\n",
       "      <td>26357987</td>\n",
       "      <td>51937.4124</td>\n",
       "    </tr>\n",
       "    <tr>\n",
       "      <th>144</th>\n",
       "      <td>CHINA</td>\n",
       "      <td>113512620</td>\n",
       "      <td>26377352</td>\n",
       "      <td>52564.1589</td>\n",
       "    </tr>\n",
       "    <tr>\n",
       "      <th>145</th>\n",
       "      <td>CHINA</td>\n",
       "      <td>114151748</td>\n",
       "      <td>26525861</td>\n",
       "      <td>41863.5486</td>\n",
       "    </tr>\n",
       "    <tr>\n",
       "      <th>146</th>\n",
       "      <td>CHINA</td>\n",
       "      <td>115001672</td>\n",
       "      <td>26723345</td>\n",
       "      <td>2857.3290</td>\n",
       "    </tr>\n",
       "    <tr>\n",
       "      <th>147</th>\n",
       "      <td>CHINA</td>\n",
       "      <td>115424491</td>\n",
       "      <td>26821580</td>\n",
       "      <td>2357.8430</td>\n",
       "    </tr>\n",
       "  </tbody>\n",
       "</table>\n",
       "<p>148 rows × 4 columns</p>\n",
       "</div>"
      ],
      "text/plain": [
       "                        n_name   l_pageid  o_pageid     revenue\n",
       "0    CHINA                         123374     28669  54782.7660\n",
       "1    CHINA                         277119     64407   3023.8284\n",
       "2    CHINA                        1210536    281342  78016.2075\n",
       "3    CHINA                        2859326    664442   8001.0168\n",
       "4    CHINA                        2877724    668718  63842.8120\n",
       "..                         ...        ...       ...         ...\n",
       "143  CHINA                      113429303  26357987  51937.4124\n",
       "144  CHINA                      113512620  26377352  52564.1589\n",
       "145  CHINA                      114151748  26525861  41863.5486\n",
       "146  CHINA                      115001672  26723345   2857.3290\n",
       "147  CHINA                      115424491  26821580   2357.8430\n",
       "\n",
       "[148 rows x 4 columns]"
      ]
     },
     "execution_count": 41,
     "metadata": {},
     "output_type": "execute_result"
    }
   ],
   "source": [
    "unagg_china = unagg[unagg['n_name'] == 'CHINA                    ']\n",
    "unagg_china"
   ]
  },
  {
   "cell_type": "code",
   "execution_count": 42,
   "metadata": {},
   "outputs": [
    {
     "data": {
      "text/plain": [
       "(27785811921078.13, 266162640275.9621, 266162640275.9621, 266162640275.9621)"
      ]
     },
     "execution_count": 42,
     "metadata": {},
     "output_type": "execute_result"
    }
   ],
   "source": [
    "import numpy as np\n",
    "y_empty = (unagg_china[\"revenue\"].sum() ** 2).item()\n",
    "y_l = np.sum(unagg_china.groupby(\"l_pageid\").sum()[\"revenue\"] ** 2).item()\n",
    "y_o = np.sum(unagg_china.groupby(\"o_pageid\").sum()[\"revenue\"] ** 2).item()\n",
    "y_lo = np.sum(unagg_china[\"revenue\"] ** 2).item()\n",
    "y_empty, y_l, y_o, y_lo"
   ]
  },
  {
   "cell_type": "code",
   "execution_count": 43,
   "metadata": {},
   "outputs": [
    {
     "data": {
      "text/plain": [
       "(0.0001,\n",
       " (1e-08, 1.0000000000000002e-06, 1.0000000000000002e-06, 0.0001),\n",
       " (1e-08, 9.900000000000003e-07, 9.900000000000003e-07, 9.801e-05))"
      ]
     },
     "execution_count": 43,
     "metadata": {},
     "output_type": "execute_result"
    }
   ],
   "source": [
    "theta1 = 0.01\n",
    "theta2 = 0.01\n",
    "a = theta1 * theta2\n",
    "b_empty = (theta1 ** 2) * (theta2 ** 2)\n",
    "b_l = theta1 * (theta2 **2)\n",
    "b_o = (theta1 ** 2) * theta2\n",
    "b_lo = theta1 * theta2\n",
    "c_empty = b_empty\n",
    "c_l = -b_empty + b_l\n",
    "c_o = -b_empty + b_o\n",
    "c_lo = b_empty - b_l - b_o + b_lo\n",
    "a, (b_empty, b_l, b_o, b_lo), (c_empty, c_l, c_o, c_lo)"
   ]
  },
  {
   "cell_type": "code",
   "execution_count": 47,
   "metadata": {},
   "outputs": [
    {
     "data": {
      "text/plain": [
       "2661360240119345.0"
      ]
     },
     "execution_count": 47,
     "metadata": {},
     "output_type": "execute_result"
    }
   ],
   "source": [
    "import math\n",
    "sum_sigma2 = c_empty / (a**2) * y_empty + c_l / (a**2) * y_l + c_o / (a**2) * y_o + c_lo / (a**2) * y_lo - y_empty\n",
    "sum_sigma2"
   ]
  }
 ],
 "metadata": {
  "kernelspec": {
   "display_name": "pilotdb",
   "language": "python",
   "name": "python3"
  },
  "language_info": {
   "codemirror_mode": {
    "name": "ipython",
    "version": 3
   },
   "file_extension": ".py",
   "mimetype": "text/x-python",
   "name": "python",
   "nbconvert_exporter": "python",
   "pygments_lexer": "ipython3",
   "version": "3.11.9"
  }
 },
 "nbformat": 4,
 "nbformat_minor": 2
}
